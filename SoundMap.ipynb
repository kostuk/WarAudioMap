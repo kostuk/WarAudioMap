{
  "nbformat": 4,
  "nbformat_minor": 0,
  "metadata": {
    "colab": {
      "name": "SoundMap.ipynb",
      "provenance": [],
      "collapsed_sections": [],
      "mount_file_id": "1PElAo17PeE8i_6fZOv5VjjlvNAqRGS0O",
      "authorship_tag": "ABX9TyPz/aoeOk1IokeLQKyF58Xp",
      "include_colab_link": true
    },
    "kernelspec": {
      "name": "python3",
      "display_name": "Python 3"
    },
    "language_info": {
      "name": "python"
    }
  },
  "cells": [
    {
      "cell_type": "markdown",
      "metadata": {
        "id": "view-in-github",
        "colab_type": "text"
      },
      "source": [
        "<a href=\"https://colab.research.google.com/github/kostuk/WarAudioMap/blob/main/SoundMap.ipynb\" target=\"_parent\"><img src=\"https://colab.research.google.com/assets/colab-badge.svg\" alt=\"Open In Colab\"/></a>"
      ]
    },
    {
      "cell_type": "code",
      "execution_count": 1,
      "metadata": {
        "id": "hfVafQvqTbnX",
        "colab": {
          "base_uri": "https://localhost:8080/",
          "height": 1000
        },
        "outputId": "2044c557-dfc5-451c-c7b0-097a74102d2f"
      },
      "outputs": [
        {
          "output_type": "stream",
          "name": "stdout",
          "text": [
            "Looking in indexes: https://pypi.org/simple, https://us-python.pkg.dev/colab-wheels/public/simple/\n",
            "Collecting tflite-model-maker\n",
            "  Downloading tflite_model_maker-0.4.1-py3-none-any.whl (642 kB)\n",
            "\u001b[K     |████████████████████████████████| 642 kB 5.1 MB/s \n",
            "\u001b[?25hCollecting sentencepiece>=0.1.91\n",
            "  Downloading sentencepiece-0.1.96-cp37-cp37m-manylinux_2_17_x86_64.manylinux2014_x86_64.whl (1.2 MB)\n",
            "\u001b[K     |████████████████████████████████| 1.2 MB 46.4 MB/s \n",
            "\u001b[?25hCollecting tensorflow-model-optimization>=0.5\n",
            "  Downloading tensorflow_model_optimization-0.7.2-py2.py3-none-any.whl (237 kB)\n",
            "\u001b[K     |████████████████████████████████| 237 kB 43.9 MB/s \n",
            "\u001b[?25hCollecting tf-models-official==2.3.0\n",
            "  Downloading tf_models_official-2.3.0-py2.py3-none-any.whl (840 kB)\n",
            "\u001b[K     |████████████████████████████████| 840 kB 51.3 MB/s \n",
            "\u001b[?25hCollecting flatbuffers==1.12\n",
            "  Downloading flatbuffers-1.12-py2.py3-none-any.whl (15 kB)\n",
            "Requirement already satisfied: tensorflow>=2.6.0 in /usr/local/lib/python3.7/dist-packages (from tflite-model-maker) (2.8.2+zzzcolab20220527125636)\n",
            "Collecting neural-structured-learning>=1.3.1\n",
            "  Downloading neural_structured_learning-1.3.1-py2.py3-none-any.whl (120 kB)\n",
            "\u001b[K     |████████████████████████████████| 120 kB 50.7 MB/s \n",
            "\u001b[?25hRequirement already satisfied: absl-py>=0.10.0 in /usr/local/lib/python3.7/dist-packages (from tflite-model-maker) (1.1.0)\n",
            "Requirement already satisfied: matplotlib<3.5.0,>=3.0.3 in /usr/local/lib/python3.7/dist-packages (from tflite-model-maker) (3.2.2)\n",
            "Requirement already satisfied: six>=1.12.0 in /usr/local/lib/python3.7/dist-packages (from tflite-model-maker) (1.15.0)\n",
            "Collecting tensorflow-addons>=0.11.2\n",
            "  Downloading tensorflow_addons-0.17.1-cp37-cp37m-manylinux_2_17_x86_64.manylinux2014_x86_64.whl (1.1 MB)\n",
            "\u001b[K     |████████████████████████████████| 1.1 MB 37.3 MB/s \n",
            "\u001b[?25hCollecting tensorflowjs>=2.4.0\n",
            "  Downloading tensorflowjs-3.18.0-py3-none-any.whl (77 kB)\n",
            "\u001b[K     |████████████████████████████████| 77 kB 6.7 MB/s \n",
            "\u001b[?25hRequirement already satisfied: tensorflow-datasets>=2.1.0 in /usr/local/lib/python3.7/dist-packages (from tflite-model-maker) (4.0.1)\n",
            "Requirement already satisfied: Cython>=0.29.13 in /usr/local/lib/python3.7/dist-packages (from tflite-model-maker) (0.29.30)\n",
            "Collecting tflite-support-nightly\n",
            "  Downloading tflite_support_nightly-0.4.0.dev20220623-cp37-cp37m-manylinux2014_x86_64.whl (42.6 MB)\n",
            "\u001b[K     |████████████████████████████████| 42.6 MB 1.3 MB/s \n",
            "\u001b[?25hCollecting PyYAML>=5.1\n",
            "  Downloading PyYAML-6.0-cp37-cp37m-manylinux_2_5_x86_64.manylinux1_x86_64.manylinux_2_12_x86_64.manylinux2010_x86_64.whl (596 kB)\n",
            "\u001b[K     |████████████████████████████████| 596 kB 44.8 MB/s \n",
            "\u001b[?25hRequirement already satisfied: numpy>=1.17.3 in /usr/local/lib/python3.7/dist-packages (from tflite-model-maker) (1.21.6)\n",
            "Requirement already satisfied: librosa==0.8.1 in /usr/local/lib/python3.7/dist-packages (from tflite-model-maker) (0.8.1)\n",
            "Requirement already satisfied: pillow>=7.0.0 in /usr/local/lib/python3.7/dist-packages (from tflite-model-maker) (7.1.2)\n",
            "Collecting lxml>=4.6.1\n",
            "  Downloading lxml-4.9.0-cp37-cp37m-manylinux_2_17_x86_64.manylinux2014_x86_64.manylinux_2_24_x86_64.whl (6.4 MB)\n",
            "\u001b[K     |████████████████████████████████| 6.4 MB 37.4 MB/s \n",
            "\u001b[?25hCollecting scann==1.2.6\n",
            "  Downloading scann-1.2.6-cp37-cp37m-manylinux2014_x86_64.whl (10.9 MB)\n",
            "\u001b[K     |████████████████████████████████| 10.9 MB 24.0 MB/s \n",
            "\u001b[?25hCollecting fire>=0.3.1\n",
            "  Downloading fire-0.4.0.tar.gz (87 kB)\n",
            "\u001b[K     |████████████████████████████████| 87 kB 6.3 MB/s \n",
            "\u001b[?25hRequirement already satisfied: tensorflow-hub<0.13,>=0.7.0 in /usr/local/lib/python3.7/dist-packages (from tflite-model-maker) (0.12.0)\n",
            "Requirement already satisfied: urllib3!=1.25.0,!=1.25.1,<1.26,>=1.21.1 in /usr/local/lib/python3.7/dist-packages (from tflite-model-maker) (1.24.3)\n",
            "Collecting numba==0.53\n",
            "  Downloading numba-0.53.0-cp37-cp37m-manylinux2014_x86_64.whl (3.4 MB)\n",
            "\u001b[K     |████████████████████████████████| 3.4 MB 37.2 MB/s \n",
            "\u001b[?25hRequirement already satisfied: decorator>=3.0.0 in /usr/local/lib/python3.7/dist-packages (from librosa==0.8.1->tflite-model-maker) (4.4.2)\n",
            "Requirement already satisfied: scipy>=1.0.0 in /usr/local/lib/python3.7/dist-packages (from librosa==0.8.1->tflite-model-maker) (1.4.1)\n",
            "Requirement already satisfied: soundfile>=0.10.2 in /usr/local/lib/python3.7/dist-packages (from librosa==0.8.1->tflite-model-maker) (0.10.3.post1)\n",
            "Requirement already satisfied: audioread>=2.0.0 in /usr/local/lib/python3.7/dist-packages (from librosa==0.8.1->tflite-model-maker) (2.1.9)\n",
            "Requirement already satisfied: pooch>=1.0 in /usr/local/lib/python3.7/dist-packages (from librosa==0.8.1->tflite-model-maker) (1.6.0)\n",
            "Requirement already satisfied: scikit-learn!=0.19.0,>=0.14.0 in /usr/local/lib/python3.7/dist-packages (from librosa==0.8.1->tflite-model-maker) (1.0.2)\n",
            "Requirement already satisfied: packaging>=20.0 in /usr/local/lib/python3.7/dist-packages (from librosa==0.8.1->tflite-model-maker) (21.3)\n",
            "Requirement already satisfied: joblib>=0.14 in /usr/local/lib/python3.7/dist-packages (from librosa==0.8.1->tflite-model-maker) (1.1.0)\n",
            "Requirement already satisfied: resampy>=0.2.2 in /usr/local/lib/python3.7/dist-packages (from librosa==0.8.1->tflite-model-maker) (0.2.2)\n",
            "Collecting llvmlite<0.37,>=0.36.0rc1\n",
            "  Downloading llvmlite-0.36.0-cp37-cp37m-manylinux2010_x86_64.whl (25.3 MB)\n",
            "\u001b[K     |████████████████████████████████| 25.3 MB 88.3 MB/s \n",
            "\u001b[?25hRequirement already satisfied: setuptools in /usr/local/lib/python3.7/dist-packages (from numba==0.53->tflite-model-maker) (57.4.0)\n",
            "Collecting py-cpuinfo>=3.3.0\n",
            "  Downloading py-cpuinfo-8.0.0.tar.gz (99 kB)\n",
            "\u001b[K     |████████████████████████████████| 99 kB 8.8 MB/s \n",
            "\u001b[?25hRequirement already satisfied: gin-config in /usr/local/lib/python3.7/dist-packages (from tf-models-official==2.3.0->tflite-model-maker) (0.5.0)\n",
            "Requirement already satisfied: pandas>=0.22.0 in /usr/local/lib/python3.7/dist-packages (from tf-models-official==2.3.0->tflite-model-maker) (1.3.5)\n",
            "Requirement already satisfied: google-api-python-client>=1.6.7 in /usr/local/lib/python3.7/dist-packages (from tf-models-official==2.3.0->tflite-model-maker) (1.12.11)\n",
            "Requirement already satisfied: google-cloud-bigquery>=0.31.0 in /usr/local/lib/python3.7/dist-packages (from tf-models-official==2.3.0->tflite-model-maker) (1.21.0)\n",
            "Collecting dataclasses\n",
            "  Downloading dataclasses-0.6-py3-none-any.whl (14 kB)\n",
            "Requirement already satisfied: kaggle>=1.3.9 in /usr/local/lib/python3.7/dist-packages (from tf-models-official==2.3.0->tflite-model-maker) (1.5.12)\n",
            "Collecting tf-slim>=1.1.0\n",
            "  Downloading tf_slim-1.1.0-py2.py3-none-any.whl (352 kB)\n",
            "\u001b[K     |████████████████████████████████| 352 kB 44.9 MB/s \n",
            "\u001b[?25hCollecting opencv-python-headless\n",
            "  Downloading opencv_python_headless-4.6.0.66-cp36-abi3-manylinux_2_17_x86_64.manylinux2014_x86_64.whl (48.3 MB)\n",
            "\u001b[K     |████████████████████████████████| 48.3 MB 73 kB/s \n",
            "\u001b[?25hRequirement already satisfied: psutil>=5.4.3 in /usr/local/lib/python3.7/dist-packages (from tf-models-official==2.3.0->tflite-model-maker) (5.4.8)\n",
            "Requirement already satisfied: termcolor in /usr/local/lib/python3.7/dist-packages (from fire>=0.3.1->tflite-model-maker) (1.1.0)\n",
            "Requirement already satisfied: google-auth-httplib2>=0.0.3 in /usr/local/lib/python3.7/dist-packages (from google-api-python-client>=1.6.7->tf-models-official==2.3.0->tflite-model-maker) (0.0.4)\n",
            "Requirement already satisfied: httplib2<1dev,>=0.15.0 in /usr/local/lib/python3.7/dist-packages (from google-api-python-client>=1.6.7->tf-models-official==2.3.0->tflite-model-maker) (0.17.4)\n",
            "Requirement already satisfied: uritemplate<4dev,>=3.0.0 in /usr/local/lib/python3.7/dist-packages (from google-api-python-client>=1.6.7->tf-models-official==2.3.0->tflite-model-maker) (3.0.1)\n",
            "Requirement already satisfied: google-api-core<3dev,>=1.21.0 in /usr/local/lib/python3.7/dist-packages (from google-api-python-client>=1.6.7->tf-models-official==2.3.0->tflite-model-maker) (1.31.6)\n",
            "Requirement already satisfied: google-auth<3dev,>=1.16.0 in /usr/local/lib/python3.7/dist-packages (from google-api-python-client>=1.6.7->tf-models-official==2.3.0->tflite-model-maker) (1.35.0)\n",
            "Requirement already satisfied: requests<3.0.0dev,>=2.18.0 in /usr/local/lib/python3.7/dist-packages (from google-api-core<3dev,>=1.21.0->google-api-python-client>=1.6.7->tf-models-official==2.3.0->tflite-model-maker) (2.23.0)\n",
            "Requirement already satisfied: googleapis-common-protos<2.0dev,>=1.6.0 in /usr/local/lib/python3.7/dist-packages (from google-api-core<3dev,>=1.21.0->google-api-python-client>=1.6.7->tf-models-official==2.3.0->tflite-model-maker) (1.56.2)\n",
            "Requirement already satisfied: protobuf<4.0.0dev,>=3.12.0 in /usr/local/lib/python3.7/dist-packages (from google-api-core<3dev,>=1.21.0->google-api-python-client>=1.6.7->tf-models-official==2.3.0->tflite-model-maker) (3.17.3)\n",
            "Requirement already satisfied: pytz in /usr/local/lib/python3.7/dist-packages (from google-api-core<3dev,>=1.21.0->google-api-python-client>=1.6.7->tf-models-official==2.3.0->tflite-model-maker) (2022.1)\n",
            "Requirement already satisfied: pyasn1-modules>=0.2.1 in /usr/local/lib/python3.7/dist-packages (from google-auth<3dev,>=1.16.0->google-api-python-client>=1.6.7->tf-models-official==2.3.0->tflite-model-maker) (0.2.8)\n",
            "Requirement already satisfied: cachetools<5.0,>=2.0.0 in /usr/local/lib/python3.7/dist-packages (from google-auth<3dev,>=1.16.0->google-api-python-client>=1.6.7->tf-models-official==2.3.0->tflite-model-maker) (4.2.4)\n",
            "Requirement already satisfied: rsa<5,>=3.1.4 in /usr/local/lib/python3.7/dist-packages (from google-auth<3dev,>=1.16.0->google-api-python-client>=1.6.7->tf-models-official==2.3.0->tflite-model-maker) (4.8)\n",
            "Requirement already satisfied: google-resumable-media!=0.4.0,<0.5.0dev,>=0.3.1 in /usr/local/lib/python3.7/dist-packages (from google-cloud-bigquery>=0.31.0->tf-models-official==2.3.0->tflite-model-maker) (0.4.1)\n",
            "Requirement already satisfied: google-cloud-core<2.0dev,>=1.0.3 in /usr/local/lib/python3.7/dist-packages (from google-cloud-bigquery>=0.31.0->tf-models-official==2.3.0->tflite-model-maker) (1.0.3)\n",
            "Requirement already satisfied: python-dateutil in /usr/local/lib/python3.7/dist-packages (from kaggle>=1.3.9->tf-models-official==2.3.0->tflite-model-maker) (2.8.2)\n",
            "Requirement already satisfied: python-slugify in /usr/local/lib/python3.7/dist-packages (from kaggle>=1.3.9->tf-models-official==2.3.0->tflite-model-maker) (6.1.2)\n",
            "Requirement already satisfied: certifi in /usr/local/lib/python3.7/dist-packages (from kaggle>=1.3.9->tf-models-official==2.3.0->tflite-model-maker) (2022.6.15)\n",
            "Requirement already satisfied: tqdm in /usr/local/lib/python3.7/dist-packages (from kaggle>=1.3.9->tf-models-official==2.3.0->tflite-model-maker) (4.64.0)\n",
            "Requirement already satisfied: cycler>=0.10 in /usr/local/lib/python3.7/dist-packages (from matplotlib<3.5.0,>=3.0.3->tflite-model-maker) (0.11.0)\n",
            "Requirement already satisfied: kiwisolver>=1.0.1 in /usr/local/lib/python3.7/dist-packages (from matplotlib<3.5.0,>=3.0.3->tflite-model-maker) (1.4.3)\n",
            "Requirement already satisfied: pyparsing!=2.0.4,!=2.1.2,!=2.1.6,>=2.0.1 in /usr/local/lib/python3.7/dist-packages (from matplotlib<3.5.0,>=3.0.3->tflite-model-maker) (3.0.9)\n",
            "Requirement already satisfied: typing-extensions in /usr/local/lib/python3.7/dist-packages (from kiwisolver>=1.0.1->matplotlib<3.5.0,>=3.0.3->tflite-model-maker) (4.1.1)\n",
            "Requirement already satisfied: attrs in /usr/local/lib/python3.7/dist-packages (from neural-structured-learning>=1.3.1->tflite-model-maker) (21.4.0)\n",
            "Requirement already satisfied: appdirs>=1.3.0 in /usr/local/lib/python3.7/dist-packages (from pooch>=1.0->librosa==0.8.1->tflite-model-maker) (1.4.4)\n",
            "Requirement already satisfied: pyasn1<0.5.0,>=0.4.6 in /usr/local/lib/python3.7/dist-packages (from pyasn1-modules>=0.2.1->google-auth<3dev,>=1.16.0->google-api-python-client>=1.6.7->tf-models-official==2.3.0->tflite-model-maker) (0.4.8)\n",
            "Requirement already satisfied: idna<3,>=2.5 in /usr/local/lib/python3.7/dist-packages (from requests<3.0.0dev,>=2.18.0->google-api-core<3dev,>=1.21.0->google-api-python-client>=1.6.7->tf-models-official==2.3.0->tflite-model-maker) (2.10)\n",
            "Requirement already satisfied: chardet<4,>=3.0.2 in /usr/local/lib/python3.7/dist-packages (from requests<3.0.0dev,>=2.18.0->google-api-core<3dev,>=1.21.0->google-api-python-client>=1.6.7->tf-models-official==2.3.0->tflite-model-maker) (3.0.4)\n",
            "Requirement already satisfied: threadpoolctl>=2.0.0 in /usr/local/lib/python3.7/dist-packages (from scikit-learn!=0.19.0,>=0.14.0->librosa==0.8.1->tflite-model-maker) (3.1.0)\n",
            "Requirement already satisfied: cffi>=1.0 in /usr/local/lib/python3.7/dist-packages (from soundfile>=0.10.2->librosa==0.8.1->tflite-model-maker) (1.15.0)\n",
            "Requirement already satisfied: pycparser in /usr/local/lib/python3.7/dist-packages (from cffi>=1.0->soundfile>=0.10.2->librosa==0.8.1->tflite-model-maker) (2.21)\n",
            "Requirement already satisfied: h5py>=2.9.0 in /usr/local/lib/python3.7/dist-packages (from tensorflow>=2.6.0->tflite-model-maker) (3.1.0)\n",
            "Requirement already satisfied: wrapt>=1.11.0 in /usr/local/lib/python3.7/dist-packages (from tensorflow>=2.6.0->tflite-model-maker) (1.14.1)\n",
            "Requirement already satisfied: keras-preprocessing>=1.1.1 in /usr/local/lib/python3.7/dist-packages (from tensorflow>=2.6.0->tflite-model-maker) (1.1.2)\n",
            "Requirement already satisfied: opt-einsum>=2.3.2 in /usr/local/lib/python3.7/dist-packages (from tensorflow>=2.6.0->tflite-model-maker) (3.3.0)\n",
            "Requirement already satisfied: google-pasta>=0.1.1 in /usr/local/lib/python3.7/dist-packages (from tensorflow>=2.6.0->tflite-model-maker) (0.2.0)\n",
            "Requirement already satisfied: gast>=0.2.1 in /usr/local/lib/python3.7/dist-packages (from tensorflow>=2.6.0->tflite-model-maker) (0.5.3)\n",
            "Requirement already satisfied: grpcio<2.0,>=1.24.3 in /usr/local/lib/python3.7/dist-packages (from tensorflow>=2.6.0->tflite-model-maker) (1.46.3)\n",
            "Requirement already satisfied: keras<2.9,>=2.8.0rc0 in /usr/local/lib/python3.7/dist-packages (from tensorflow>=2.6.0->tflite-model-maker) (2.8.0)\n",
            "Requirement already satisfied: tensorflow-estimator<2.9,>=2.8 in /usr/local/lib/python3.7/dist-packages (from tensorflow>=2.6.0->tflite-model-maker) (2.8.0)\n",
            "Requirement already satisfied: astunparse>=1.6.0 in /usr/local/lib/python3.7/dist-packages (from tensorflow>=2.6.0->tflite-model-maker) (1.6.3)\n",
            "Requirement already satisfied: tensorboard<2.9,>=2.8 in /usr/local/lib/python3.7/dist-packages (from tensorflow>=2.6.0->tflite-model-maker) (2.8.0)\n",
            "Requirement already satisfied: tensorflow-io-gcs-filesystem>=0.23.1 in /usr/local/lib/python3.7/dist-packages (from tensorflow>=2.6.0->tflite-model-maker) (0.26.0)\n",
            "Requirement already satisfied: libclang>=9.0.1 in /usr/local/lib/python3.7/dist-packages (from tensorflow>=2.6.0->tflite-model-maker) (14.0.1)\n",
            "Requirement already satisfied: wheel<1.0,>=0.23.0 in /usr/local/lib/python3.7/dist-packages (from astunparse>=1.6.0->tensorflow>=2.6.0->tflite-model-maker) (0.37.1)\n",
            "Requirement already satisfied: cached-property in /usr/local/lib/python3.7/dist-packages (from h5py>=2.9.0->tensorflow>=2.6.0->tflite-model-maker) (1.5.2)\n",
            "Requirement already satisfied: tensorboard-data-server<0.7.0,>=0.6.0 in /usr/local/lib/python3.7/dist-packages (from tensorboard<2.9,>=2.8->tensorflow>=2.6.0->tflite-model-maker) (0.6.1)\n",
            "Requirement already satisfied: tensorboard-plugin-wit>=1.6.0 in /usr/local/lib/python3.7/dist-packages (from tensorboard<2.9,>=2.8->tensorflow>=2.6.0->tflite-model-maker) (1.8.1)\n",
            "Requirement already satisfied: werkzeug>=0.11.15 in /usr/local/lib/python3.7/dist-packages (from tensorboard<2.9,>=2.8->tensorflow>=2.6.0->tflite-model-maker) (1.0.1)\n",
            "Requirement already satisfied: google-auth-oauthlib<0.5,>=0.4.1 in /usr/local/lib/python3.7/dist-packages (from tensorboard<2.9,>=2.8->tensorflow>=2.6.0->tflite-model-maker) (0.4.6)\n",
            "Requirement already satisfied: markdown>=2.6.8 in /usr/local/lib/python3.7/dist-packages (from tensorboard<2.9,>=2.8->tensorflow>=2.6.0->tflite-model-maker) (3.3.7)\n",
            "Requirement already satisfied: requests-oauthlib>=0.7.0 in /usr/local/lib/python3.7/dist-packages (from google-auth-oauthlib<0.5,>=0.4.1->tensorboard<2.9,>=2.8->tensorflow>=2.6.0->tflite-model-maker) (1.3.1)\n",
            "Requirement already satisfied: importlib-metadata>=4.4 in /usr/local/lib/python3.7/dist-packages (from markdown>=2.6.8->tensorboard<2.9,>=2.8->tensorflow>=2.6.0->tflite-model-maker) (4.11.4)\n",
            "Requirement already satisfied: zipp>=0.5 in /usr/local/lib/python3.7/dist-packages (from importlib-metadata>=4.4->markdown>=2.6.8->tensorboard<2.9,>=2.8->tensorflow>=2.6.0->tflite-model-maker) (3.8.0)\n",
            "Requirement already satisfied: oauthlib>=3.0.0 in /usr/local/lib/python3.7/dist-packages (from requests-oauthlib>=0.7.0->google-auth-oauthlib<0.5,>=0.4.1->tensorboard<2.9,>=2.8->tensorflow>=2.6.0->tflite-model-maker) (3.2.0)\n",
            "Requirement already satisfied: typeguard>=2.7 in /usr/local/lib/python3.7/dist-packages (from tensorflow-addons>=0.11.2->tflite-model-maker) (2.7.1)\n",
            "Requirement already satisfied: importlib-resources in /usr/local/lib/python3.7/dist-packages (from tensorflow-datasets>=2.1.0->tflite-model-maker) (5.7.1)\n",
            "Requirement already satisfied: future in /usr/local/lib/python3.7/dist-packages (from tensorflow-datasets>=2.1.0->tflite-model-maker) (0.16.0)\n",
            "Requirement already satisfied: dm-tree in /usr/local/lib/python3.7/dist-packages (from tensorflow-datasets>=2.1.0->tflite-model-maker) (0.1.7)\n",
            "Requirement already satisfied: tensorflow-metadata in /usr/local/lib/python3.7/dist-packages (from tensorflow-datasets>=2.1.0->tflite-model-maker) (1.8.0)\n",
            "Requirement already satisfied: promise in /usr/local/lib/python3.7/dist-packages (from tensorflow-datasets>=2.1.0->tflite-model-maker) (2.3)\n",
            "Requirement already satisfied: dill in /usr/local/lib/python3.7/dist-packages (from tensorflow-datasets>=2.1.0->tflite-model-maker) (0.3.5.1)\n",
            "Collecting packaging>=20.0\n",
            "  Downloading packaging-20.9-py2.py3-none-any.whl (40 kB)\n",
            "\u001b[K     |████████████████████████████████| 40 kB 5.1 MB/s \n",
            "\u001b[?25hRequirement already satisfied: text-unidecode>=1.3 in /usr/local/lib/python3.7/dist-packages (from python-slugify->kaggle>=1.3.9->tf-models-official==2.3.0->tflite-model-maker) (1.3)\n",
            "Collecting pybind11>=2.6.0\n",
            "  Downloading pybind11-2.9.2-py2.py3-none-any.whl (213 kB)\n",
            "\u001b[K     |████████████████████████████████| 213 kB 40.3 MB/s \n",
            "\u001b[?25hCollecting protobuf<4.0.0dev,>=3.12.0\n",
            "  Downloading protobuf-3.19.4-cp37-cp37m-manylinux_2_17_x86_64.manylinux2014_x86_64.whl (1.1 MB)\n",
            "\u001b[K     |████████████████████████████████| 1.1 MB 39.4 MB/s \n",
            "\u001b[?25hCollecting sounddevice>=0.4.4\n",
            "  Downloading sounddevice-0.4.4-py3-none-any.whl (31 kB)\n",
            "Collecting tflite-support-nightly\n",
            "  Downloading tflite_support_nightly-0.4.0.dev20220622-cp37-cp37m-manylinux2014_x86_64.whl (42.6 MB)\n",
            "\u001b[K     |████████████████████████████████| 42.6 MB 1.4 MB/s \n",
            "\u001b[?25h  Downloading tflite_support_nightly-0.4.0.dev20220621-cp37-cp37m-manylinux2014_x86_64.whl (42.6 MB)\n",
            "\u001b[K     |████████████████████████████████| 42.6 MB 1.4 MB/s \n",
            "\u001b[?25h  Downloading tflite_support_nightly-0.4.0.dev20220620-cp37-cp37m-manylinux2014_x86_64.whl (42.6 MB)\n",
            "\u001b[K     |████████████████████████████████| 42.6 MB 1.4 MB/s \n",
            "\u001b[?25h  Downloading tflite_support_nightly-0.4.0.dev20220619-cp37-cp37m-manylinux2014_x86_64.whl (42.6 MB)\n",
            "\u001b[K     |████████████████████████████████| 42.6 MB 1.3 MB/s \n",
            "\u001b[?25h  Downloading tflite_support_nightly-0.4.0.dev20220618-cp37-cp37m-manylinux2014_x86_64.whl (42.6 MB)\n",
            "\u001b[K     |████████████████████████████████| 42.6 MB 1.5 MB/s \n",
            "\u001b[?25h  Downloading tflite_support_nightly-0.4.0.dev20220617-cp37-cp37m-manylinux2014_x86_64.whl (42.6 MB)\n",
            "\u001b[K     |████████████████████████████████| 42.6 MB 1.3 MB/s \n",
            "\u001b[?25h  Downloading tflite_support_nightly-0.4.0.dev20220616-cp37-cp37m-manylinux2014_x86_64.whl (42.6 MB)\n",
            "\u001b[K     |████████████████████████████████| 42.6 MB 1.4 MB/s \n",
            "\u001b[?25h  Downloading tflite_support_nightly-0.4.0.dev20220608-cp37-cp37m-manylinux2014_x86_64.whl (42.5 MB)\n",
            "\u001b[K     |████████████████████████████████| 42.5 MB 100 kB/s \n",
            "\u001b[?25hBuilding wheels for collected packages: fire, py-cpuinfo\n",
            "  Building wheel for fire (setup.py) ... \u001b[?25l\u001b[?25hdone\n",
            "  Created wheel for fire: filename=fire-0.4.0-py2.py3-none-any.whl size=115942 sha256=3964637dc6af6800405f6c8a373e5e4a35e0e470eb9e77ca5ad275a8c3525c90\n",
            "  Stored in directory: /root/.cache/pip/wheels/8a/67/fb/2e8a12fa16661b9d5af1f654bd199366799740a85c64981226\n",
            "  Building wheel for py-cpuinfo (setup.py) ... \u001b[?25l\u001b[?25hdone\n",
            "  Created wheel for py-cpuinfo: filename=py_cpuinfo-8.0.0-py3-none-any.whl size=22257 sha256=855b4b53db91e295dc268a270f9de51698e54fbaad3a8dfdccb9380a8f84766e\n",
            "  Stored in directory: /root/.cache/pip/wheels/d2/f1/1f/041add21dc9c4220157f1bd2bd6afe1f1a49524c3396b94401\n",
            "Successfully built fire py-cpuinfo\n",
            "Installing collected packages: protobuf, packaging, llvmlite, numba, flatbuffers, tf-slim, tensorflow-model-optimization, tensorflow-addons, sounddevice, sentencepiece, PyYAML, pybind11, py-cpuinfo, opencv-python-headless, dataclasses, tflite-support-nightly, tf-models-official, tensorflowjs, scann, neural-structured-learning, lxml, fire, tflite-model-maker\n",
            "  Attempting uninstall: protobuf\n",
            "    Found existing installation: protobuf 3.17.3\n",
            "    Uninstalling protobuf-3.17.3:\n",
            "      Successfully uninstalled protobuf-3.17.3\n",
            "  Attempting uninstall: packaging\n",
            "    Found existing installation: packaging 21.3\n",
            "    Uninstalling packaging-21.3:\n",
            "      Successfully uninstalled packaging-21.3\n",
            "  Attempting uninstall: llvmlite\n",
            "    Found existing installation: llvmlite 0.34.0\n",
            "    Uninstalling llvmlite-0.34.0:\n",
            "      Successfully uninstalled llvmlite-0.34.0\n",
            "  Attempting uninstall: numba\n",
            "    Found existing installation: numba 0.51.2\n",
            "    Uninstalling numba-0.51.2:\n",
            "      Successfully uninstalled numba-0.51.2\n",
            "  Attempting uninstall: flatbuffers\n",
            "    Found existing installation: flatbuffers 2.0\n",
            "    Uninstalling flatbuffers-2.0:\n",
            "      Successfully uninstalled flatbuffers-2.0\n",
            "  Attempting uninstall: PyYAML\n",
            "    Found existing installation: PyYAML 3.13\n",
            "    Uninstalling PyYAML-3.13:\n",
            "      Successfully uninstalled PyYAML-3.13\n",
            "  Attempting uninstall: lxml\n",
            "    Found existing installation: lxml 4.2.6\n",
            "    Uninstalling lxml-4.2.6:\n",
            "      Successfully uninstalled lxml-4.2.6\n",
            "\u001b[31mERROR: pip's dependency resolver does not currently take into account all the packages that are installed. This behaviour is the source of the following dependency conflicts.\n",
            "datascience 0.10.6 requires folium==0.2.1, but you have folium 0.8.3 which is incompatible.\u001b[0m\n",
            "Successfully installed PyYAML-6.0 dataclasses-0.6 fire-0.4.0 flatbuffers-1.12 llvmlite-0.36.0 lxml-4.9.0 neural-structured-learning-1.3.1 numba-0.53.0 opencv-python-headless-4.6.0.66 packaging-20.9 protobuf-3.19.4 py-cpuinfo-8.0.0 pybind11-2.9.2 scann-1.2.6 sentencepiece-0.1.96 sounddevice-0.4.4 tensorflow-addons-0.17.1 tensorflow-model-optimization-0.7.2 tensorflowjs-3.18.0 tf-models-official-2.3.0 tf-slim-1.1.0 tflite-model-maker-0.4.1 tflite-support-nightly-0.4.0.dev20220608\n"
          ]
        },
        {
          "output_type": "display_data",
          "data": {
            "application/vnd.colab-display-data+json": {
              "pip_warning": {
                "packages": [
                  "google"
                ]
              }
            }
          },
          "metadata": {}
        }
      ],
      "source": [
        "!pip install tflite-model-maker\n"
      ]
    },
    {
      "cell_type": "markdown",
      "source": [
        "# New Section"
      ],
      "metadata": {
        "id": "xpfm22NLeyoI"
      }
    },
    {
      "cell_type": "code",
      "source": [
        "import tensorflow as tf\n",
        "import tflite_model_maker as mm\n",
        "from tflite_model_maker import audio_classifier\n",
        "import os\n",
        "import pathlib\n",
        "\n",
        "import numpy as np\n",
        "import matplotlib.pyplot as plt\n",
        "import seaborn as sns\n",
        "import itertools\n",
        "import glob\n",
        "import random\n",
        "\n",
        "from IPython.display import Audio, Image\n",
        "from scipy.io import wavfile\n",
        "\n",
        "print(f\"TensorFlow Version: {tf.__version__}\")\n",
        "print(f\"Model Maker Version: {mm.__version__}\")\n",
        "\n",
        "\n",
        "from tensorflow.keras import layers\n",
        "from tensorflow.keras import models\n"
      ],
      "metadata": {
        "colab": {
          "base_uri": "https://localhost:8080/"
        },
        "id": "TaSzWOxN0I8P",
        "outputId": "6ffdb857-0d10-413a-becc-8854ca7959ef"
      },
      "execution_count": 2,
      "outputs": [
        {
          "output_type": "stream",
          "name": "stdout",
          "text": [
            "TensorFlow Version: 2.8.2\n",
            "Model Maker Version: 0.4.1\n"
          ]
        }
      ]
    },
    {
      "cell_type": "code",
      "source": [
        "DATASET_PATH = '/content/drive/MyDrive/soundMap'\n",
        "\n",
        "data_dir = pathlib.Path(DATASET_PATH)\n",
        "\n",
        "commands = np.array(tf.io.gfile.listdir(str(data_dir)))\n",
        "commands = commands[ commands != 'none']\n",
        "print('Commands:', commands)\n",
        "\n",
        "filenames = tf.io.gfile.glob(str(data_dir) + '/*/*')\n",
        "print(filenames)\n",
        "fcount = len(filenames)\n",
        "print(fcount)\n"
      ],
      "metadata": {
        "colab": {
          "base_uri": "https://localhost:8080/"
        },
        "id": "AeJ9UmYIfcZX",
        "outputId": "30367219-87e4-4801-ac5f-a901a616c487"
      },
      "execution_count": 6,
      "outputs": [
        {
          "output_type": "stream",
          "name": "stdout",
          "text": [
            "Commands: ['unknow' 'slinese' 'pushka']\n",
            "['/content/drive/MyDrive/soundMap/none/001.wav', '/content/drive/MyDrive/soundMap/unknow/052.wav', '/content/drive/MyDrive/soundMap/unknow/046.wav', '/content/drive/MyDrive/soundMap/unknow/048.wav', '/content/drive/MyDrive/soundMap/unknow/045.wav', '/content/drive/MyDrive/soundMap/unknow/047.wav', '/content/drive/MyDrive/soundMap/unknow/044.wav', '/content/drive/MyDrive/soundMap/unknow/043.wav', '/content/drive/MyDrive/soundMap/unknow/051.wav', '/content/drive/MyDrive/soundMap/unknow/050.wav', '/content/drive/MyDrive/soundMap/unknow/049.wav', '/content/drive/MyDrive/soundMap/unknow/042.wav', '/content/drive/MyDrive/soundMap/unknow/041.wav', '/content/drive/MyDrive/soundMap/unknow/040.wav', '/content/drive/MyDrive/soundMap/unknow/034.wav', '/content/drive/MyDrive/soundMap/unknow/036.wav', '/content/drive/MyDrive/soundMap/unknow/037.wav', '/content/drive/MyDrive/soundMap/unknow/035.wav', '/content/drive/MyDrive/soundMap/unknow/038.wav', '/content/drive/MyDrive/soundMap/unknow/033.wav', '/content/drive/MyDrive/soundMap/unknow/032.wav', '/content/drive/MyDrive/soundMap/unknow/030.wav', '/content/drive/MyDrive/soundMap/unknow/029.wav', '/content/drive/MyDrive/soundMap/unknow/031.wav', '/content/drive/MyDrive/soundMap/unknow/028.wav', '/content/drive/MyDrive/soundMap/unknow/023.wav', '/content/drive/MyDrive/soundMap/unknow/024.wav', '/content/drive/MyDrive/soundMap/unknow/021.wav', '/content/drive/MyDrive/soundMap/unknow/022.wav', '/content/drive/MyDrive/soundMap/unknow/020.wav', '/content/drive/MyDrive/soundMap/unknow/019.wav', '/content/drive/MyDrive/soundMap/unknow/027.wav', '/content/drive/MyDrive/soundMap/unknow/026.wav', '/content/drive/MyDrive/soundMap/unknow/025.wav', '/content/drive/MyDrive/soundMap/unknow/018.wav', '/content/drive/MyDrive/soundMap/unknow/017.wav', '/content/drive/MyDrive/soundMap/unknow/016.wav', '/content/drive/MyDrive/soundMap/unknow/015.wav', '/content/drive/MyDrive/soundMap/unknow/008.wav', '/content/drive/MyDrive/soundMap/unknow/010.wav', '/content/drive/MyDrive/soundMap/unknow/009.wav', '/content/drive/MyDrive/soundMap/unknow/011.wav', '/content/drive/MyDrive/soundMap/unknow/014.wav', '/content/drive/MyDrive/soundMap/unknow/013.wav', '/content/drive/MyDrive/soundMap/unknow/007.wav', '/content/drive/MyDrive/soundMap/unknow/006.wav', '/content/drive/MyDrive/soundMap/unknow/012.wav', '/content/drive/MyDrive/soundMap/unknow/005.wav', '/content/drive/MyDrive/soundMap/unknow/004.wav', '/content/drive/MyDrive/soundMap/unknow/003.wav', '/content/drive/MyDrive/soundMap/unknow/002.wav', '/content/drive/MyDrive/soundMap/unknow/080.wav', '/content/drive/MyDrive/soundMap/unknow/079.wav', '/content/drive/MyDrive/soundMap/unknow/077.wav', '/content/drive/MyDrive/soundMap/unknow/076.wav', '/content/drive/MyDrive/soundMap/unknow/078.wav', '/content/drive/MyDrive/soundMap/unknow/075.wav', '/content/drive/MyDrive/soundMap/unknow/070.wav', '/content/drive/MyDrive/soundMap/unknow/071.wav', '/content/drive/MyDrive/soundMap/unknow/068.wav', '/content/drive/MyDrive/soundMap/unknow/069.wav', '/content/drive/MyDrive/soundMap/unknow/074.wav', '/content/drive/MyDrive/soundMap/unknow/073.wav', '/content/drive/MyDrive/soundMap/unknow/067.wav', '/content/drive/MyDrive/soundMap/unknow/066.wav', '/content/drive/MyDrive/soundMap/unknow/072.wav', '/content/drive/MyDrive/soundMap/unknow/065.wav', '/content/drive/MyDrive/soundMap/unknow/064.wav', '/content/drive/MyDrive/soundMap/unknow/063.wav', '/content/drive/MyDrive/soundMap/unknow/061.wav', '/content/drive/MyDrive/soundMap/unknow/059.wav', '/content/drive/MyDrive/soundMap/unknow/060.wav', '/content/drive/MyDrive/soundMap/unknow/058.wav', '/content/drive/MyDrive/soundMap/unknow/062.wav', '/content/drive/MyDrive/soundMap/unknow/057.wav', '/content/drive/MyDrive/soundMap/unknow/056.wav', '/content/drive/MyDrive/soundMap/unknow/054.wav', '/content/drive/MyDrive/soundMap/unknow/053.wav', '/content/drive/MyDrive/soundMap/unknow/055.wav', '/content/drive/MyDrive/soundMap/slinese/014.wav', '/content/drive/MyDrive/soundMap/slinese/013.wav', '/content/drive/MyDrive/soundMap/slinese/012.wav', '/content/drive/MyDrive/soundMap/slinese/011.wav', '/content/drive/MyDrive/soundMap/slinese/010.wav', '/content/drive/MyDrive/soundMap/slinese/009.wav', '/content/drive/MyDrive/soundMap/slinese/007.wav', '/content/drive/MyDrive/soundMap/slinese/006.wav', '/content/drive/MyDrive/soundMap/slinese/008.wav', '/content/drive/MyDrive/soundMap/slinese/005.wav', '/content/drive/MyDrive/soundMap/slinese/001.wav', '/content/drive/MyDrive/soundMap/slinese/004.wav', '/content/drive/MyDrive/soundMap/slinese/003.wav', '/content/drive/MyDrive/soundMap/slinese/002.wav', '/content/drive/MyDrive/soundMap/pushka/019.wav', '/content/drive/MyDrive/soundMap/pushka/016.wav', '/content/drive/MyDrive/soundMap/pushka/018.wav', '/content/drive/MyDrive/soundMap/pushka/017.wav', '/content/drive/MyDrive/soundMap/pushka/015.wav', '/content/drive/MyDrive/soundMap/pushka/014.wav', '/content/drive/MyDrive/soundMap/pushka/020.wav', '/content/drive/MyDrive/soundMap/pushka/013.wav', '/content/drive/MyDrive/soundMap/pushka/012.wav', '/content/drive/MyDrive/soundMap/pushka/011.wav', '/content/drive/MyDrive/soundMap/pushka/005.wav', '/content/drive/MyDrive/soundMap/pushka/003.wav', '/content/drive/MyDrive/soundMap/pushka/006.wav', '/content/drive/MyDrive/soundMap/pushka/004.wav', '/content/drive/MyDrive/soundMap/pushka/002.wav', '/content/drive/MyDrive/soundMap/pushka/001.wav', '/content/drive/MyDrive/soundMap/pushka/010.wav', '/content/drive/MyDrive/soundMap/pushka/009.wav', '/content/drive/MyDrive/soundMap/pushka/008.wav', '/content/drive/MyDrive/soundMap/pushka/000.wav', '/content/drive/MyDrive/soundMap/pushka/007.wav', '/content/drive/MyDrive/soundMap/pushka/094.wav', '/content/drive/MyDrive/soundMap/pushka/093.wav', '/content/drive/MyDrive/soundMap/pushka/092.wav', '/content/drive/MyDrive/soundMap/pushka/085.wav', '/content/drive/MyDrive/soundMap/pushka/084.wav', '/content/drive/MyDrive/soundMap/pushka/083.wav', '/content/drive/MyDrive/soundMap/pushka/081.wav', '/content/drive/MyDrive/soundMap/pushka/079.wav', '/content/drive/MyDrive/soundMap/pushka/080.wav', '/content/drive/MyDrive/soundMap/pushka/078.wav', '/content/drive/MyDrive/soundMap/pushka/082.wav', '/content/drive/MyDrive/soundMap/pushka/077.wav', '/content/drive/MyDrive/soundMap/pushka/076.wav', '/content/drive/MyDrive/soundMap/pushka/074.wav', '/content/drive/MyDrive/soundMap/pushka/073.wav', '/content/drive/MyDrive/soundMap/pushka/075.wav', '/content/drive/MyDrive/soundMap/pushka/072.wav', '/content/drive/MyDrive/soundMap/pushka/066.wav', '/content/drive/MyDrive/soundMap/pushka/065.wav', '/content/drive/MyDrive/soundMap/pushka/067.wav', '/content/drive/MyDrive/soundMap/pushka/068.wav', '/content/drive/MyDrive/soundMap/pushka/071.wav', '/content/drive/MyDrive/soundMap/pushka/070.wav', '/content/drive/MyDrive/soundMap/pushka/064.wav', '/content/drive/MyDrive/soundMap/pushka/063.wav', '/content/drive/MyDrive/soundMap/pushka/069.wav', '/content/drive/MyDrive/soundMap/pushka/062.wav', '/content/drive/MyDrive/soundMap/pushka/061.wav', '/content/drive/MyDrive/soundMap/pushka/060.wav', '/content/drive/MyDrive/soundMap/pushka/058.wav', '/content/drive/MyDrive/soundMap/pushka/057.wav', '/content/drive/MyDrive/soundMap/pushka/056.wav', '/content/drive/MyDrive/soundMap/pushka/055.wav', '/content/drive/MyDrive/soundMap/pushka/059.wav', '/content/drive/MyDrive/soundMap/pushka/054.wav', '/content/drive/MyDrive/soundMap/pushka/053.wav', '/content/drive/MyDrive/soundMap/pushka/051.wav', '/content/drive/MyDrive/soundMap/pushka/050.wav', '/content/drive/MyDrive/soundMap/pushka/052.wav', '/content/drive/MyDrive/soundMap/pushka/049.wav', '/content/drive/MyDrive/soundMap/pushka/041.wav', '/content/drive/MyDrive/soundMap/pushka/039.wav', '/content/drive/MyDrive/soundMap/pushka/042.wav', '/content/drive/MyDrive/soundMap/pushka/040.wav', '/content/drive/MyDrive/soundMap/pushka/038.wav', '/content/drive/MyDrive/soundMap/pushka/037.wav', '/content/drive/MyDrive/soundMap/pushka/048.wav', '/content/drive/MyDrive/soundMap/pushka/047.wav', '/content/drive/MyDrive/soundMap/pushka/046.wav', '/content/drive/MyDrive/soundMap/pushka/036.wav', '/content/drive/MyDrive/soundMap/pushka/045.wav', '/content/drive/MyDrive/soundMap/pushka/044.wav', '/content/drive/MyDrive/soundMap/pushka/043.wav', '/content/drive/MyDrive/soundMap/pushka/035.wav', '/content/drive/MyDrive/soundMap/pushka/034.wav', '/content/drive/MyDrive/soundMap/pushka/033.wav', '/content/drive/MyDrive/soundMap/pushka/026.wav', '/content/drive/MyDrive/soundMap/pushka/029.wav', '/content/drive/MyDrive/soundMap/pushka/028.wav', '/content/drive/MyDrive/soundMap/pushka/027.wav', '/content/drive/MyDrive/soundMap/pushka/032.wav', '/content/drive/MyDrive/soundMap/pushka/031.wav', '/content/drive/MyDrive/soundMap/pushka/025.wav', '/content/drive/MyDrive/soundMap/pushka/024.wav', '/content/drive/MyDrive/soundMap/pushka/030.wav', '/content/drive/MyDrive/soundMap/pushka/023.wav', '/content/drive/MyDrive/soundMap/pushka/022.wav', '/content/drive/MyDrive/soundMap/pushka/021.wav', '/content/drive/MyDrive/soundMap/pushka/162.wav', '/content/drive/MyDrive/soundMap/pushka/161.wav', '/content/drive/MyDrive/soundMap/pushka/160.wav', '/content/drive/MyDrive/soundMap/pushka/159.wav', '/content/drive/MyDrive/soundMap/pushka/163.wav', '/content/drive/MyDrive/soundMap/pushka/158.wav', '/content/drive/MyDrive/soundMap/pushka/164.wav', '/content/drive/MyDrive/soundMap/pushka/156.wav', '/content/drive/MyDrive/soundMap/pushka/155.wav', '/content/drive/MyDrive/soundMap/pushka/157.wav', '/content/drive/MyDrive/soundMap/pushka/154.wav', '/content/drive/MyDrive/soundMap/pushka/150.wav', '/content/drive/MyDrive/soundMap/pushka/149.wav', '/content/drive/MyDrive/soundMap/pushka/148.wav', '/content/drive/MyDrive/soundMap/pushka/147.wav', '/content/drive/MyDrive/soundMap/pushka/152.wav', '/content/drive/MyDrive/soundMap/pushka/153.wav', '/content/drive/MyDrive/soundMap/pushka/146.wav', '/content/drive/MyDrive/soundMap/pushka/145.wav', '/content/drive/MyDrive/soundMap/pushka/151.wav', '/content/drive/MyDrive/soundMap/pushka/144.wav', '/content/drive/MyDrive/soundMap/pushka/143.wav', '/content/drive/MyDrive/soundMap/pushka/142.wav', '/content/drive/MyDrive/soundMap/pushka/139.wav', '/content/drive/MyDrive/soundMap/pushka/140.wav', '/content/drive/MyDrive/soundMap/pushka/137.wav', '/content/drive/MyDrive/soundMap/pushka/138.wav', '/content/drive/MyDrive/soundMap/pushka/141.wav', '/content/drive/MyDrive/soundMap/pushka/136.wav', '/content/drive/MyDrive/soundMap/pushka/135.wav', '/content/drive/MyDrive/soundMap/pushka/133.wav', '/content/drive/MyDrive/soundMap/pushka/132.wav', '/content/drive/MyDrive/soundMap/pushka/134.wav', '/content/drive/MyDrive/soundMap/pushka/131.wav', '/content/drive/MyDrive/soundMap/pushka/127.wav', '/content/drive/MyDrive/soundMap/pushka/124.wav', '/content/drive/MyDrive/soundMap/pushka/125.wav', '/content/drive/MyDrive/soundMap/pushka/126.wav', '/content/drive/MyDrive/soundMap/pushka/123.wav', '/content/drive/MyDrive/soundMap/pushka/122.wav', '/content/drive/MyDrive/soundMap/pushka/130.wav', '/content/drive/MyDrive/soundMap/pushka/129.wav', '/content/drive/MyDrive/soundMap/pushka/128.wav', '/content/drive/MyDrive/soundMap/pushka/121.wav', '/content/drive/MyDrive/soundMap/pushka/120.wav', '/content/drive/MyDrive/soundMap/pushka/119.wav', '/content/drive/MyDrive/soundMap/pushka/118.wav', '/content/drive/MyDrive/soundMap/pushka/112.wav', '/content/drive/MyDrive/soundMap/pushka/111.wav', '/content/drive/MyDrive/soundMap/pushka/113.wav', '/content/drive/MyDrive/soundMap/pushka/114.wav', '/content/drive/MyDrive/soundMap/pushka/117.wav', '/content/drive/MyDrive/soundMap/pushka/116.wav', '/content/drive/MyDrive/soundMap/pushka/110.wav', '/content/drive/MyDrive/soundMap/pushka/109.wav', '/content/drive/MyDrive/soundMap/pushka/115.wav', '/content/drive/MyDrive/soundMap/pushka/108.wav', '/content/drive/MyDrive/soundMap/pushka/107.wav', '/content/drive/MyDrive/soundMap/pushka/106.wav', '/content/drive/MyDrive/soundMap/pushka/102.wav', '/content/drive/MyDrive/soundMap/pushka/101.wav', '/content/drive/MyDrive/soundMap/pushka/103.wav', '/content/drive/MyDrive/soundMap/pushka/104.wav', '/content/drive/MyDrive/soundMap/pushka/105.wav', '/content/drive/MyDrive/soundMap/pushka/100.wav', '/content/drive/MyDrive/soundMap/pushka/099.wav', '/content/drive/MyDrive/soundMap/pushka/097.wav', '/content/drive/MyDrive/soundMap/pushka/096.wav', '/content/drive/MyDrive/soundMap/pushka/098.wav', '/content/drive/MyDrive/soundMap/pushka/095.wav', '/content/drive/MyDrive/soundMap/pushka/091.wav', '/content/drive/MyDrive/soundMap/pushka/089.wav', '/content/drive/MyDrive/soundMap/pushka/090.wav', '/content/drive/MyDrive/soundMap/pushka/088.wav', '/content/drive/MyDrive/soundMap/pushka/087.wav', '/content/drive/MyDrive/soundMap/pushka/086.wav', '/content/drive/MyDrive/soundMap/pushka/172.wav', '/content/drive/MyDrive/soundMap/pushka/171.wav', '/content/drive/MyDrive/soundMap/pushka/170.wav', '/content/drive/MyDrive/soundMap/pushka/168.wav', '/content/drive/MyDrive/soundMap/pushka/169.wav', '/content/drive/MyDrive/soundMap/pushka/167.wav', '/content/drive/MyDrive/soundMap/pushka/166.wav', '/content/drive/MyDrive/soundMap/pushka/165.wav']\n",
            "266\n"
          ]
        }
      ]
    },
    {
      "cell_type": "code",
      "source": [
        "\n",
        "\n",
        "    \n",
        "    \n",
        "filenames = tf.random.shuffle(filenames)\n",
        "num_samples = len(filenames)\n",
        "print('Number of total examples:', num_samples)\n",
        "print('Number of examples per label:',\n",
        "      len(tf.io.gfile.listdir(str(data_dir/commands[0]))))\n",
        "print('Example file tensor:', filenames[0])\n",
        "\n",
        "\n",
        "train_files = filenames[:fcount-100]\n",
        "val_files = filenames[fcount-100: fcount-50]\n",
        "test_files = filenames[-50:]\n",
        "\n",
        "print('Training set size', len(train_files))\n",
        "print('Validation set size', len(val_files))\n",
        "print('Test set size', len(test_files))\n",
        "\n",
        "\n",
        "code_to_name = {\n",
        "  'pushka': 'Pushka',\n",
        "  'unknow': 'Unknow'\n",
        "}\n",
        "\n",
        "\n",
        "\n"
      ],
      "metadata": {
        "colab": {
          "base_uri": "https://localhost:8080/"
        },
        "id": "vjqqg_PXd4-S",
        "outputId": "d039244e-48d6-4c58-8c67-ed51f3b0dcac"
      },
      "execution_count": 7,
      "outputs": [
        {
          "output_type": "stream",
          "name": "stdout",
          "text": [
            "Number of total examples: 266\n",
            "Number of examples per label: 78\n",
            "Example file tensor: tf.Tensor(b'/content/drive/MyDrive/soundMap/pushka/043.wav', shape=(), dtype=string)\n",
            "Training set size 166\n",
            "Validation set size 50\n",
            "Test set size 50\n"
          ]
        }
      ]
    },
    {
      "cell_type": "code",
      "source": [
        "spec = audio_classifier.YamNetSpec(\n",
        "    keep_yamnet_and_custom_heads=True,\n",
        "    frame_step=audio_classifier.YamNetSpec.EXPECTED_WAVEFORM_LENGTH,\n",
        "    frame_length=audio_classifier.YamNetSpec.EXPECTED_WAVEFORM_LENGTH//2)"
      ],
      "metadata": {
        "colab": {
          "base_uri": "https://localhost:8080/"
        },
        "id": "sbMqFXsOf0Yl",
        "outputId": "0679fb58-c095-4a92-cbe8-d14c7280414c"
      },
      "execution_count": 8,
      "outputs": [
        {
          "output_type": "stream",
          "name": "stdout",
          "text": [
            "INFO:tensorflow:Checkpoints are stored in /tmp/tmp3tic9vru\n"
          ]
        }
      ]
    },
    {
      "cell_type": "code",
      "source": [
        "def get_label(file_path):\n",
        "  parts = tf.strings.split(\n",
        "      input=file_path,\n",
        "      sep=os.path.sep)\n",
        "  # Note: You'll use indexing here instead of tuple unpacking to enable this\n",
        "  # to work in a TensorFlow graph.\n",
        "  return parts[-2]"
      ],
      "metadata": {
        "id": "E-fU-Tr6hXLo"
      },
      "execution_count": 9,
      "outputs": []
    },
    {
      "cell_type": "code",
      "source": [
        "audio_classifier.YamNetSpec.EXPECTED_WAVEFORM_LENGTH"
      ],
      "metadata": {
        "colab": {
          "base_uri": "https://localhost:8080/"
        },
        "id": "tNC31MPAhmxp",
        "outputId": "62c2121d-c25f-444e-ee5f-ee72347c2fe4"
      },
      "execution_count": 10,
      "outputs": [
        {
          "output_type": "execute_result",
          "data": {
            "text/plain": [
              "15600"
            ]
          },
          "metadata": {},
          "execution_count": 10
        }
      ]
    },
    {
      "cell_type": "code",
      "source": [
        "train_data = audio_classifier.DataLoader.from_folder(\n",
        "    spec, data_dir, cache=True)"
      ],
      "metadata": {
        "id": "jhOJDr7njalY"
      },
      "execution_count": 11,
      "outputs": []
    },
    {
      "cell_type": "code",
      "source": [
        "\n",
        "train_data, validation_data = train_data.split(0.6)\n",
        "test_data, validation_data = validation_data.split(0.5)\n"
      ],
      "metadata": {
        "id": "QrfS20JnjiHU"
      },
      "execution_count": 12,
      "outputs": []
    },
    {
      "cell_type": "code",
      "source": [
        "print(train_data.size)\n",
        "print(validation_data.size)\n",
        "print(test_data.size)"
      ],
      "metadata": {
        "colab": {
          "base_uri": "https://localhost:8080/"
        },
        "id": "VxEd4mvVnqZZ",
        "outputId": "59b2b977-cdc5-462a-8e4d-9e0bea1e423c"
      },
      "execution_count": 13,
      "outputs": [
        {
          "output_type": "stream",
          "name": "stdout",
          "text": [
            "159\n",
            "54\n",
            "53\n"
          ]
        }
      ]
    },
    {
      "cell_type": "code",
      "source": [
        "batch_size = 64\n",
        "epochs = 100\n",
        "\n",
        "print('Training the model')\n",
        "model = audio_classifier.create(\n",
        "    train_data,\n",
        "    spec,\n",
        "    validation_data,\n",
        "    batch_size=batch_size,\n",
        "    epochs=epochs)"
      ],
      "metadata": {
        "id": "owUS9pEgoCPy",
        "colab": {
          "base_uri": "https://localhost:8080/"
        },
        "outputId": "17b79e62-d0b5-492e-e86a-8670ec573865"
      },
      "execution_count": 14,
      "outputs": [
        {
          "output_type": "stream",
          "name": "stdout",
          "text": [
            "Training the model\n",
            "Model: \"sequential\"\n",
            "_________________________________________________________________\n",
            " Layer (type)                Output Shape              Param #   \n",
            "=================================================================\n",
            " classification_head (Dense)  (None, 4)                4100      \n",
            "                                                                 \n",
            "=================================================================\n",
            "Total params: 4,100\n",
            "Trainable params: 4,100\n",
            "Non-trainable params: 0\n",
            "_________________________________________________________________\n",
            "Epoch 1/100\n",
            "3/3 [==============================] - 29s 3s/step - loss: 1.4905 - acc: 0.1844 - val_loss: 1.3923 - val_acc: 0.1132\n",
            "Epoch 2/100\n",
            "3/3 [==============================] - 0s 185ms/step - loss: 1.3243 - acc: 0.2979 - val_loss: 1.2518 - val_acc: 0.2453\n",
            "Epoch 3/100\n",
            "3/3 [==============================] - 0s 174ms/step - loss: 1.2145 - acc: 0.3830 - val_loss: 1.1239 - val_acc: 0.6415\n",
            "Epoch 4/100\n",
            "3/3 [==============================] - 0s 202ms/step - loss: 1.1205 - acc: 0.5461 - val_loss: 1.0131 - val_acc: 0.7358\n",
            "Epoch 5/100\n",
            "3/3 [==============================] - 0s 192ms/step - loss: 1.0573 - acc: 0.5674 - val_loss: 0.9195 - val_acc: 0.7547\n",
            "Epoch 6/100\n",
            "3/3 [==============================] - 0s 203ms/step - loss: 0.9268 - acc: 0.6879 - val_loss: 0.8421 - val_acc: 0.7925\n",
            "Epoch 7/100\n",
            "3/3 [==============================] - 0s 195ms/step - loss: 0.8619 - acc: 0.6738 - val_loss: 0.7795 - val_acc: 0.7925\n",
            "Epoch 8/100\n",
            "3/3 [==============================] - 0s 187ms/step - loss: 0.8091 - acc: 0.7163 - val_loss: 0.7305 - val_acc: 0.7925\n",
            "Epoch 9/100\n",
            "3/3 [==============================] - 0s 183ms/step - loss: 0.7960 - acc: 0.7021 - val_loss: 0.6924 - val_acc: 0.7925\n",
            "Epoch 10/100\n",
            "3/3 [==============================] - 0s 192ms/step - loss: 0.7224 - acc: 0.7234 - val_loss: 0.6617 - val_acc: 0.7925\n",
            "Epoch 11/100\n",
            "3/3 [==============================] - 0s 200ms/step - loss: 0.7260 - acc: 0.6950 - val_loss: 0.6370 - val_acc: 0.7925\n",
            "Epoch 12/100\n",
            "3/3 [==============================] - 0s 185ms/step - loss: 0.6742 - acc: 0.7234 - val_loss: 0.6163 - val_acc: 0.7925\n",
            "Epoch 13/100\n",
            "3/3 [==============================] - 0s 190ms/step - loss: 0.6772 - acc: 0.7092 - val_loss: 0.5987 - val_acc: 0.7925\n",
            "Epoch 14/100\n",
            "3/3 [==============================] - 0s 212ms/step - loss: 0.6276 - acc: 0.7447 - val_loss: 0.5838 - val_acc: 0.7925\n",
            "Epoch 15/100\n",
            "3/3 [==============================] - 1s 248ms/step - loss: 0.6536 - acc: 0.7163 - val_loss: 0.5720 - val_acc: 0.7925\n",
            "Epoch 16/100\n",
            "3/3 [==============================] - 0s 178ms/step - loss: 0.6051 - acc: 0.7376 - val_loss: 0.5624 - val_acc: 0.7925\n",
            "Epoch 17/100\n",
            "3/3 [==============================] - 1s 237ms/step - loss: 0.5924 - acc: 0.7376 - val_loss: 0.5541 - val_acc: 0.8113\n",
            "Epoch 18/100\n",
            "3/3 [==============================] - 1s 247ms/step - loss: 0.5646 - acc: 0.7801 - val_loss: 0.5468 - val_acc: 0.8113\n",
            "Epoch 19/100\n",
            "3/3 [==============================] - 1s 543ms/step - loss: 0.5663 - acc: 0.7518 - val_loss: 0.5408 - val_acc: 0.8113\n",
            "Epoch 20/100\n",
            "3/3 [==============================] - 1s 259ms/step - loss: 0.5385 - acc: 0.7730 - val_loss: 0.5356 - val_acc: 0.8113\n",
            "Epoch 21/100\n",
            "3/3 [==============================] - 0s 203ms/step - loss: 0.5439 - acc: 0.7589 - val_loss: 0.5308 - val_acc: 0.8113\n",
            "Epoch 22/100\n",
            "3/3 [==============================] - 0s 209ms/step - loss: 0.5301 - acc: 0.7872 - val_loss: 0.5274 - val_acc: 0.8302\n",
            "Epoch 23/100\n",
            "3/3 [==============================] - 1s 227ms/step - loss: 0.5177 - acc: 0.7872 - val_loss: 0.5241 - val_acc: 0.8491\n",
            "Epoch 24/100\n",
            "3/3 [==============================] - 1s 230ms/step - loss: 0.4904 - acc: 0.8085 - val_loss: 0.5193 - val_acc: 0.8491\n",
            "Epoch 25/100\n",
            "3/3 [==============================] - 1s 238ms/step - loss: 0.5015 - acc: 0.8369 - val_loss: 0.5152 - val_acc: 0.8491\n",
            "Epoch 26/100\n",
            "3/3 [==============================] - 1s 210ms/step - loss: 0.4888 - acc: 0.8227 - val_loss: 0.5109 - val_acc: 0.8491\n",
            "Epoch 27/100\n",
            "3/3 [==============================] - 1s 219ms/step - loss: 0.4897 - acc: 0.8298 - val_loss: 0.5062 - val_acc: 0.8491\n",
            "Epoch 28/100\n",
            "3/3 [==============================] - 0s 189ms/step - loss: 0.4781 - acc: 0.8085 - val_loss: 0.5012 - val_acc: 0.8679\n",
            "Epoch 29/100\n",
            "3/3 [==============================] - 0s 202ms/step - loss: 0.4651 - acc: 0.8227 - val_loss: 0.4970 - val_acc: 0.8679\n",
            "Epoch 30/100\n",
            "3/3 [==============================] - 0s 204ms/step - loss: 0.4692 - acc: 0.8085 - val_loss: 0.4932 - val_acc: 0.8679\n",
            "Epoch 31/100\n",
            "3/3 [==============================] - 1s 224ms/step - loss: 0.4665 - acc: 0.7872 - val_loss: 0.4895 - val_acc: 0.8679\n",
            "Epoch 32/100\n",
            "3/3 [==============================] - 0s 201ms/step - loss: 0.4130 - acc: 0.9007 - val_loss: 0.4856 - val_acc: 0.8679\n",
            "Epoch 33/100\n",
            "3/3 [==============================] - 0s 185ms/step - loss: 0.4384 - acc: 0.8440 - val_loss: 0.4813 - val_acc: 0.8679\n",
            "Epoch 34/100\n",
            "3/3 [==============================] - 0s 181ms/step - loss: 0.4364 - acc: 0.8440 - val_loss: 0.4765 - val_acc: 0.8679\n",
            "Epoch 35/100\n",
            "3/3 [==============================] - 0s 183ms/step - loss: 0.4264 - acc: 0.8369 - val_loss: 0.4730 - val_acc: 0.8679\n",
            "Epoch 36/100\n",
            "3/3 [==============================] - 0s 203ms/step - loss: 0.4208 - acc: 0.8511 - val_loss: 0.4700 - val_acc: 0.8679\n",
            "Epoch 37/100\n",
            "3/3 [==============================] - 0s 177ms/step - loss: 0.4171 - acc: 0.8511 - val_loss: 0.4671 - val_acc: 0.8679\n",
            "Epoch 38/100\n",
            "3/3 [==============================] - 0s 189ms/step - loss: 0.4155 - acc: 0.8652 - val_loss: 0.4648 - val_acc: 0.8679\n",
            "Epoch 39/100\n",
            "3/3 [==============================] - 0s 183ms/step - loss: 0.4155 - acc: 0.8298 - val_loss: 0.4637 - val_acc: 0.8679\n",
            "Epoch 40/100\n",
            "3/3 [==============================] - 0s 189ms/step - loss: 0.4302 - acc: 0.8440 - val_loss: 0.4626 - val_acc: 0.8679\n",
            "Epoch 41/100\n",
            "3/3 [==============================] - 0s 175ms/step - loss: 0.4027 - acc: 0.8652 - val_loss: 0.4606 - val_acc: 0.8679\n",
            "Epoch 42/100\n",
            "3/3 [==============================] - 0s 206ms/step - loss: 0.3790 - acc: 0.8723 - val_loss: 0.4573 - val_acc: 0.8491\n",
            "Epoch 43/100\n",
            "3/3 [==============================] - 0s 189ms/step - loss: 0.3959 - acc: 0.8582 - val_loss: 0.4523 - val_acc: 0.8679\n",
            "Epoch 44/100\n",
            "3/3 [==============================] - 0s 175ms/step - loss: 0.4184 - acc: 0.8298 - val_loss: 0.4484 - val_acc: 0.8679\n",
            "Epoch 45/100\n",
            "3/3 [==============================] - 0s 210ms/step - loss: 0.4104 - acc: 0.8227 - val_loss: 0.4460 - val_acc: 0.8679\n",
            "Epoch 46/100\n",
            "3/3 [==============================] - 0s 183ms/step - loss: 0.3837 - acc: 0.8723 - val_loss: 0.4440 - val_acc: 0.8679\n",
            "Epoch 47/100\n",
            "3/3 [==============================] - 0s 185ms/step - loss: 0.3813 - acc: 0.8936 - val_loss: 0.4423 - val_acc: 0.8491\n",
            "Epoch 48/100\n",
            "3/3 [==============================] - 0s 197ms/step - loss: 0.4016 - acc: 0.8298 - val_loss: 0.4404 - val_acc: 0.8491\n",
            "Epoch 49/100\n",
            "3/3 [==============================] - 0s 181ms/step - loss: 0.3707 - acc: 0.8652 - val_loss: 0.4396 - val_acc: 0.8491\n",
            "Epoch 50/100\n",
            "3/3 [==============================] - 0s 179ms/step - loss: 0.3639 - acc: 0.8652 - val_loss: 0.4384 - val_acc: 0.8491\n",
            "Epoch 51/100\n",
            "3/3 [==============================] - 0s 209ms/step - loss: 0.3678 - acc: 0.8723 - val_loss: 0.4363 - val_acc: 0.8491\n",
            "Epoch 52/100\n",
            "3/3 [==============================] - 0s 185ms/step - loss: 0.3714 - acc: 0.8582 - val_loss: 0.4337 - val_acc: 0.8491\n",
            "Epoch 53/100\n",
            "3/3 [==============================] - 1s 220ms/step - loss: 0.3426 - acc: 0.8936 - val_loss: 0.4303 - val_acc: 0.8491\n",
            "Epoch 54/100\n",
            "3/3 [==============================] - 0s 202ms/step - loss: 0.3643 - acc: 0.8865 - val_loss: 0.4270 - val_acc: 0.8491\n",
            "Epoch 55/100\n",
            "3/3 [==============================] - 0s 187ms/step - loss: 0.3465 - acc: 0.8794 - val_loss: 0.4246 - val_acc: 0.8491\n",
            "Epoch 56/100\n",
            "3/3 [==============================] - 0s 186ms/step - loss: 0.3452 - acc: 0.8794 - val_loss: 0.4225 - val_acc: 0.8491\n",
            "Epoch 57/100\n",
            "3/3 [==============================] - 0s 177ms/step - loss: 0.3338 - acc: 0.8936 - val_loss: 0.4206 - val_acc: 0.8491\n",
            "Epoch 58/100\n",
            "3/3 [==============================] - 0s 188ms/step - loss: 0.3681 - acc: 0.8723 - val_loss: 0.4190 - val_acc: 0.8491\n",
            "Epoch 59/100\n",
            "3/3 [==============================] - 0s 186ms/step - loss: 0.3330 - acc: 0.8936 - val_loss: 0.4186 - val_acc: 0.8491\n",
            "Epoch 60/100\n",
            "3/3 [==============================] - 0s 207ms/step - loss: 0.3544 - acc: 0.8865 - val_loss: 0.4176 - val_acc: 0.8491\n",
            "Epoch 61/100\n",
            "3/3 [==============================] - 0s 208ms/step - loss: 0.3480 - acc: 0.8723 - val_loss: 0.4173 - val_acc: 0.8491\n",
            "Epoch 62/100\n",
            "3/3 [==============================] - 0s 174ms/step - loss: 0.3456 - acc: 0.8723 - val_loss: 0.4162 - val_acc: 0.8491\n",
            "Epoch 63/100\n",
            "3/3 [==============================] - 0s 197ms/step - loss: 0.3305 - acc: 0.9078 - val_loss: 0.4150 - val_acc: 0.8491\n",
            "Epoch 64/100\n",
            "3/3 [==============================] - 0s 191ms/step - loss: 0.3288 - acc: 0.9007 - val_loss: 0.4133 - val_acc: 0.8491\n",
            "Epoch 65/100\n",
            "3/3 [==============================] - 0s 184ms/step - loss: 0.3485 - acc: 0.8936 - val_loss: 0.4122 - val_acc: 0.8491\n",
            "Epoch 66/100\n",
            "3/3 [==============================] - 0s 199ms/step - loss: 0.3175 - acc: 0.9149 - val_loss: 0.4113 - val_acc: 0.8491\n",
            "Epoch 67/100\n",
            "3/3 [==============================] - 0s 181ms/step - loss: 0.3488 - acc: 0.8865 - val_loss: 0.4102 - val_acc: 0.8491\n",
            "Epoch 68/100\n",
            "3/3 [==============================] - 0s 211ms/step - loss: 0.3198 - acc: 0.9149 - val_loss: 0.4089 - val_acc: 0.8491\n",
            "Epoch 69/100\n",
            "3/3 [==============================] - 0s 185ms/step - loss: 0.3339 - acc: 0.9007 - val_loss: 0.4076 - val_acc: 0.8491\n",
            "Epoch 70/100\n",
            "3/3 [==============================] - 1s 214ms/step - loss: 0.3232 - acc: 0.8865 - val_loss: 0.4062 - val_acc: 0.8491\n",
            "Epoch 71/100\n",
            "3/3 [==============================] - 0s 194ms/step - loss: 0.3086 - acc: 0.8936 - val_loss: 0.4054 - val_acc: 0.8491\n",
            "Epoch 72/100\n",
            "3/3 [==============================] - 0s 185ms/step - loss: 0.3261 - acc: 0.9007 - val_loss: 0.4050 - val_acc: 0.8491\n",
            "Epoch 73/100\n",
            "3/3 [==============================] - 1s 209ms/step - loss: 0.2867 - acc: 0.9433 - val_loss: 0.4039 - val_acc: 0.8491\n",
            "Epoch 74/100\n",
            "3/3 [==============================] - 0s 205ms/step - loss: 0.3156 - acc: 0.8865 - val_loss: 0.4018 - val_acc: 0.8491\n",
            "Epoch 75/100\n",
            "3/3 [==============================] - 0s 214ms/step - loss: 0.3009 - acc: 0.9078 - val_loss: 0.3993 - val_acc: 0.8491\n",
            "Epoch 76/100\n",
            "3/3 [==============================] - 1s 220ms/step - loss: 0.3149 - acc: 0.8865 - val_loss: 0.3973 - val_acc: 0.8491\n",
            "Epoch 77/100\n",
            "3/3 [==============================] - 0s 193ms/step - loss: 0.3115 - acc: 0.9078 - val_loss: 0.3956 - val_acc: 0.8491\n",
            "Epoch 78/100\n",
            "3/3 [==============================] - 0s 184ms/step - loss: 0.2939 - acc: 0.8936 - val_loss: 0.3942 - val_acc: 0.8491\n",
            "Epoch 79/100\n",
            "3/3 [==============================] - 0s 178ms/step - loss: 0.3112 - acc: 0.8865 - val_loss: 0.3929 - val_acc: 0.8491\n",
            "Epoch 80/100\n",
            "3/3 [==============================] - 0s 191ms/step - loss: 0.3006 - acc: 0.9007 - val_loss: 0.3912 - val_acc: 0.8491\n",
            "Epoch 81/100\n",
            "3/3 [==============================] - 0s 185ms/step - loss: 0.2909 - acc: 0.9078 - val_loss: 0.3896 - val_acc: 0.8491\n",
            "Epoch 82/100\n",
            "3/3 [==============================] - 0s 174ms/step - loss: 0.3097 - acc: 0.9220 - val_loss: 0.3885 - val_acc: 0.8491\n",
            "Epoch 83/100\n",
            "3/3 [==============================] - 0s 202ms/step - loss: 0.2726 - acc: 0.9007 - val_loss: 0.3876 - val_acc: 0.8491\n",
            "Epoch 84/100\n",
            "3/3 [==============================] - 1s 212ms/step - loss: 0.2881 - acc: 0.9078 - val_loss: 0.3867 - val_acc: 0.8491\n",
            "Epoch 85/100\n",
            "3/3 [==============================] - 0s 200ms/step - loss: 0.2988 - acc: 0.9149 - val_loss: 0.3857 - val_acc: 0.8491\n",
            "Epoch 86/100\n",
            "3/3 [==============================] - 0s 181ms/step - loss: 0.2924 - acc: 0.9291 - val_loss: 0.3849 - val_acc: 0.8491\n",
            "Epoch 87/100\n",
            "3/3 [==============================] - 0s 190ms/step - loss: 0.2896 - acc: 0.8936 - val_loss: 0.3846 - val_acc: 0.8491\n",
            "Epoch 88/100\n",
            "3/3 [==============================] - 1s 223ms/step - loss: 0.2748 - acc: 0.9149 - val_loss: 0.3846 - val_acc: 0.8491\n",
            "Epoch 89/100\n",
            "3/3 [==============================] - 0s 192ms/step - loss: 0.2820 - acc: 0.9078 - val_loss: 0.3839 - val_acc: 0.8491\n",
            "Epoch 90/100\n",
            "3/3 [==============================] - 0s 183ms/step - loss: 0.3057 - acc: 0.8865 - val_loss: 0.3832 - val_acc: 0.8491\n",
            "Epoch 91/100\n",
            "3/3 [==============================] - 0s 183ms/step - loss: 0.2705 - acc: 0.9149 - val_loss: 0.3818 - val_acc: 0.8491\n",
            "Epoch 92/100\n",
            "3/3 [==============================] - 1s 238ms/step - loss: 0.2727 - acc: 0.9149 - val_loss: 0.3802 - val_acc: 0.8491\n",
            "Epoch 93/100\n",
            "3/3 [==============================] - 1s 208ms/step - loss: 0.2805 - acc: 0.9362 - val_loss: 0.3799 - val_acc: 0.8491\n",
            "Epoch 94/100\n",
            "3/3 [==============================] - 0s 198ms/step - loss: 0.2818 - acc: 0.9220 - val_loss: 0.3799 - val_acc: 0.8491\n",
            "Epoch 95/100\n",
            "3/3 [==============================] - 0s 196ms/step - loss: 0.2532 - acc: 0.9362 - val_loss: 0.3798 - val_acc: 0.8491\n",
            "Epoch 96/100\n",
            "3/3 [==============================] - 0s 176ms/step - loss: 0.2825 - acc: 0.9220 - val_loss: 0.3795 - val_acc: 0.8491\n",
            "Epoch 97/100\n",
            "3/3 [==============================] - 0s 181ms/step - loss: 0.2830 - acc: 0.9149 - val_loss: 0.3789 - val_acc: 0.8491\n",
            "Epoch 98/100\n",
            "3/3 [==============================] - 0s 206ms/step - loss: 0.2788 - acc: 0.9220 - val_loss: 0.3779 - val_acc: 0.8491\n",
            "Epoch 99/100\n",
            "3/3 [==============================] - 0s 186ms/step - loss: 0.2736 - acc: 0.9220 - val_loss: 0.3766 - val_acc: 0.8491\n",
            "Epoch 100/100\n",
            "3/3 [==============================] - 0s 197ms/step - loss: 0.2571 - acc: 0.9362 - val_loss: 0.3749 - val_acc: 0.8491\n"
          ]
        }
      ]
    },
    {
      "cell_type": "code",
      "source": [
        "print('Evaluating the model')\n",
        "model.evaluate(test_data)"
      ],
      "metadata": {
        "colab": {
          "base_uri": "https://localhost:8080/"
        },
        "id": "W33EexSYoQZR",
        "outputId": "f944b25e-6926-46f0-eca4-38e2aeb69c87"
      },
      "execution_count": 15,
      "outputs": [
        {
          "output_type": "stream",
          "name": "stdout",
          "text": [
            "Evaluating the model\n",
            "2/2 [==============================] - 7s 2s/step - loss: 0.6235 - acc: 0.8605\n"
          ]
        },
        {
          "output_type": "execute_result",
          "data": {
            "text/plain": [
              "[0.6235248446464539, 0.8604651093482971]"
            ]
          },
          "metadata": {},
          "execution_count": 15
        }
      ]
    },
    {
      "cell_type": "code",
      "source": [
        "def show_confusion_matrix(confusion, test_labels):\n",
        "  \"\"\"Compute confusion matrix and normalize.\"\"\"\n",
        "  confusion_normalized = confusion.astype(\"float\") / confusion.sum(axis=1)\n",
        "  axis_labels = test_labels\n",
        "  ax = sns.heatmap(\n",
        "      confusion_normalized, xticklabels=axis_labels, yticklabels=axis_labels,\n",
        "      cmap='Blues', annot=True, fmt='.2f', square=True)\n",
        "  plt.title(\"Confusion matrix\")\n",
        "  plt.ylabel(\"True label\")\n",
        "  plt.xlabel(\"Predicted label\")\n",
        "\n",
        "confusion_matrix = model.confusion_matrix(test_data)\n",
        "show_confusion_matrix(confusion_matrix.numpy(), test_data.index_to_label)"
      ],
      "metadata": {
        "colab": {
          "base_uri": "https://localhost:8080/",
          "height": 295
        },
        "id": "cDNQq-MnolkY",
        "outputId": "30398e63-0aa1-4b9a-ec8d-e6f8a4bd2e6c"
      },
      "execution_count": 16,
      "outputs": [
        {
          "output_type": "display_data",
          "data": {
            "text/plain": [
              "<Figure size 432x288 with 2 Axes>"
            ],
            "image/png": "[encoded data removed]"
          },
          "metadata": {
            "needs_background": "light"
          }
        }
      ]
    },
    {
      "cell_type": "code",
      "source": [
        "serving_model = model.create_serving_model()\n",
        "\n",
        "print(f'Model\\'s input shape and type: {serving_model.inputs}')\n",
        "print(f'Model\\'s output shape and type: {serving_model.outputs}')"
      ],
      "metadata": {
        "colab": {
          "base_uri": "https://localhost:8080/"
        },
        "id": "AwM1KTUyozk7",
        "outputId": "3a72ce14-7be2-4924-98ea-24979d41fd06"
      },
      "execution_count": 17,
      "outputs": [
        {
          "output_type": "stream",
          "name": "stdout",
          "text": [
            "Model's input shape and type: [<KerasTensor: shape=(None, 15600) dtype=float32 (created by layer 'audio')>]\n",
            "Model's output shape and type: [<KerasTensor: shape=(None, 521) dtype=float32 (created by layer 'keras_layer')>, <KerasTensor: shape=(None, 4) dtype=float32 (created by layer 'sequential')>]\n"
          ]
        }
      ]
    },
    {
      "cell_type": "code",
      "source": [
        "test_files = os.path.abspath(os.path.join(DATASET_PATH, '*/*.wav'))\n",
        "\n",
        "def get_random_audio_file():\n",
        "  test_list = glob.glob(test_files)\n",
        "  print(test_list)\n",
        "  random_audio_path = random.choice(test_list)\n",
        "  return random_audio_path\n",
        "\n",
        "\n",
        "def show_sound_data(audio_path):\n",
        "  sample_rate, audio_data = wavfile.read(audio_path, 'rb')\n",
        "\n",
        "  bird_code = audio_path.split('/')[-2]\n",
        "  print(f'code: {bird_code}')\n",
        "\n",
        "  plttitle = f'{bird_code}'\n",
        "  plt.title(plttitle)\n",
        "  plt.plot(audio_data)\n",
        "  display(Audio(audio_data, rate=sample_rate))\n",
        "\n",
        "print('functions and data structures created')"
      ],
      "metadata": {
        "colab": {
          "base_uri": "https://localhost:8080/"
        },
        "id": "A2jZOBh1pWsJ",
        "outputId": "22f1d978-7a25-4d1f-c74c-5190cbf8d57b"
      },
      "execution_count": 18,
      "outputs": [
        {
          "output_type": "stream",
          "name": "stdout",
          "text": [
            "functions and data structures created\n"
          ]
        }
      ]
    },
    {
      "cell_type": "code",
      "source": [
        "# if you want to try another file just uncoment the line below\n",
        "print(test_files)\n",
        "random_audio = get_random_audio_file()\n",
        "print(random_audio)\n",
        "show_sound_data(random_audio)"
      ],
      "metadata": {
        "colab": {
          "base_uri": "https://localhost:8080/",
          "height": 428
        },
        "id": "YYOU2vrqpmVE",
        "outputId": "bdde3a06-0dc4-4d53-b900-520ffb1e471e"
      },
      "execution_count": 27,
      "outputs": [
        {
          "output_type": "stream",
          "name": "stdout",
          "text": [
            "/content/drive/MyDrive/soundMap/*/*.wav\n",
            "['/content/drive/MyDrive/soundMap/none/001.wav', '/content/drive/MyDrive/soundMap/unknow/052.wav', '/content/drive/MyDrive/soundMap/unknow/046.wav', '/content/drive/MyDrive/soundMap/unknow/048.wav', '/content/drive/MyDrive/soundMap/unknow/045.wav', '/content/drive/MyDrive/soundMap/unknow/047.wav', '/content/drive/MyDrive/soundMap/unknow/044.wav', '/content/drive/MyDrive/soundMap/unknow/043.wav', '/content/drive/MyDrive/soundMap/unknow/051.wav', '/content/drive/MyDrive/soundMap/unknow/050.wav', '/content/drive/MyDrive/soundMap/unknow/049.wav', '/content/drive/MyDrive/soundMap/unknow/042.wav', '/content/drive/MyDrive/soundMap/unknow/041.wav', '/content/drive/MyDrive/soundMap/unknow/040.wav', '/content/drive/MyDrive/soundMap/unknow/034.wav', '/content/drive/MyDrive/soundMap/unknow/036.wav', '/content/drive/MyDrive/soundMap/unknow/037.wav', '/content/drive/MyDrive/soundMap/unknow/035.wav', '/content/drive/MyDrive/soundMap/unknow/038.wav', '/content/drive/MyDrive/soundMap/unknow/033.wav', '/content/drive/MyDrive/soundMap/unknow/032.wav', '/content/drive/MyDrive/soundMap/unknow/030.wav', '/content/drive/MyDrive/soundMap/unknow/029.wav', '/content/drive/MyDrive/soundMap/unknow/031.wav', '/content/drive/MyDrive/soundMap/unknow/028.wav', '/content/drive/MyDrive/soundMap/unknow/023.wav', '/content/drive/MyDrive/soundMap/unknow/024.wav', '/content/drive/MyDrive/soundMap/unknow/021.wav', '/content/drive/MyDrive/soundMap/unknow/022.wav', '/content/drive/MyDrive/soundMap/unknow/020.wav', '/content/drive/MyDrive/soundMap/unknow/019.wav', '/content/drive/MyDrive/soundMap/unknow/027.wav', '/content/drive/MyDrive/soundMap/unknow/026.wav', '/content/drive/MyDrive/soundMap/unknow/025.wav', '/content/drive/MyDrive/soundMap/unknow/018.wav', '/content/drive/MyDrive/soundMap/unknow/017.wav', '/content/drive/MyDrive/soundMap/unknow/016.wav', '/content/drive/MyDrive/soundMap/unknow/015.wav', '/content/drive/MyDrive/soundMap/unknow/008.wav', '/content/drive/MyDrive/soundMap/unknow/010.wav', '/content/drive/MyDrive/soundMap/unknow/009.wav', '/content/drive/MyDrive/soundMap/unknow/011.wav', '/content/drive/MyDrive/soundMap/unknow/014.wav', '/content/drive/MyDrive/soundMap/unknow/013.wav', '/content/drive/MyDrive/soundMap/unknow/007.wav', '/content/drive/MyDrive/soundMap/unknow/006.wav', '/content/drive/MyDrive/soundMap/unknow/012.wav', '/content/drive/MyDrive/soundMap/unknow/005.wav', '/content/drive/MyDrive/soundMap/unknow/004.wav', '/content/drive/MyDrive/soundMap/unknow/003.wav', '/content/drive/MyDrive/soundMap/unknow/002.wav', '/content/drive/MyDrive/soundMap/unknow/080.wav', '/content/drive/MyDrive/soundMap/unknow/079.wav', '/content/drive/MyDrive/soundMap/unknow/077.wav', '/content/drive/MyDrive/soundMap/unknow/076.wav', '/content/drive/MyDrive/soundMap/unknow/078.wav', '/content/drive/MyDrive/soundMap/unknow/075.wav', '/content/drive/MyDrive/soundMap/unknow/070.wav', '/content/drive/MyDrive/soundMap/unknow/071.wav', '/content/drive/MyDrive/soundMap/unknow/068.wav', '/content/drive/MyDrive/soundMap/unknow/069.wav', '/content/drive/MyDrive/soundMap/unknow/074.wav', '/content/drive/MyDrive/soundMap/unknow/073.wav', '/content/drive/MyDrive/soundMap/unknow/067.wav', '/content/drive/MyDrive/soundMap/unknow/066.wav', '/content/drive/MyDrive/soundMap/unknow/072.wav', '/content/drive/MyDrive/soundMap/unknow/065.wav', '/content/drive/MyDrive/soundMap/unknow/064.wav', '/content/drive/MyDrive/soundMap/unknow/063.wav', '/content/drive/MyDrive/soundMap/unknow/061.wav', '/content/drive/MyDrive/soundMap/unknow/059.wav', '/content/drive/MyDrive/soundMap/unknow/060.wav', '/content/drive/MyDrive/soundMap/unknow/058.wav', '/content/drive/MyDrive/soundMap/unknow/062.wav', '/content/drive/MyDrive/soundMap/unknow/057.wav', '/content/drive/MyDrive/soundMap/unknow/056.wav', '/content/drive/MyDrive/soundMap/unknow/054.wav', '/content/drive/MyDrive/soundMap/unknow/053.wav', '/content/drive/MyDrive/soundMap/unknow/055.wav', '/content/drive/MyDrive/soundMap/slinese/014.wav', '/content/drive/MyDrive/soundMap/slinese/013.wav', '/content/drive/MyDrive/soundMap/slinese/012.wav', '/content/drive/MyDrive/soundMap/slinese/011.wav', '/content/drive/MyDrive/soundMap/slinese/010.wav', '/content/drive/MyDrive/soundMap/slinese/009.wav', '/content/drive/MyDrive/soundMap/slinese/007.wav', '/content/drive/MyDrive/soundMap/slinese/006.wav', '/content/drive/MyDrive/soundMap/slinese/008.wav', '/content/drive/MyDrive/soundMap/slinese/005.wav', '/content/drive/MyDrive/soundMap/slinese/001.wav', '/content/drive/MyDrive/soundMap/slinese/004.wav', '/content/drive/MyDrive/soundMap/slinese/003.wav', '/content/drive/MyDrive/soundMap/slinese/002.wav', '/content/drive/MyDrive/soundMap/pushka/019.wav', '/content/drive/MyDrive/soundMap/pushka/016.wav', '/content/drive/MyDrive/soundMap/pushka/018.wav', '/content/drive/MyDrive/soundMap/pushka/017.wav', '/content/drive/MyDrive/soundMap/pushka/015.wav', '/content/drive/MyDrive/soundMap/pushka/014.wav', '/content/drive/MyDrive/soundMap/pushka/020.wav', '/content/drive/MyDrive/soundMap/pushka/013.wav', '/content/drive/MyDrive/soundMap/pushka/012.wav', '/content/drive/MyDrive/soundMap/pushka/011.wav', '/content/drive/MyDrive/soundMap/pushka/005.wav', '/content/drive/MyDrive/soundMap/pushka/003.wav', '/content/drive/MyDrive/soundMap/pushka/006.wav', '/content/drive/MyDrive/soundMap/pushka/004.wav', '/content/drive/MyDrive/soundMap/pushka/002.wav', '/content/drive/MyDrive/soundMap/pushka/001.wav', '/content/drive/MyDrive/soundMap/pushka/010.wav', '/content/drive/MyDrive/soundMap/pushka/009.wav', '/content/drive/MyDrive/soundMap/pushka/008.wav', '/content/drive/MyDrive/soundMap/pushka/000.wav', '/content/drive/MyDrive/soundMap/pushka/007.wav', '/content/drive/MyDrive/soundMap/pushka/094.wav', '/content/drive/MyDrive/soundMap/pushka/093.wav', '/content/drive/MyDrive/soundMap/pushka/092.wav', '/content/drive/MyDrive/soundMap/pushka/085.wav', '/content/drive/MyDrive/soundMap/pushka/084.wav', '/content/drive/MyDrive/soundMap/pushka/083.wav', '/content/drive/MyDrive/soundMap/pushka/081.wav', '/content/drive/MyDrive/soundMap/pushka/079.wav', '/content/drive/MyDrive/soundMap/pushka/080.wav', '/content/drive/MyDrive/soundMap/pushka/078.wav', '/content/drive/MyDrive/soundMap/pushka/082.wav', '/content/drive/MyDrive/soundMap/pushka/077.wav', '/content/drive/MyDrive/soundMap/pushka/076.wav', '/content/drive/MyDrive/soundMap/pushka/074.wav', '/content/drive/MyDrive/soundMap/pushka/073.wav', '/content/drive/MyDrive/soundMap/pushka/075.wav', '/content/drive/MyDrive/soundMap/pushka/072.wav', '/content/drive/MyDrive/soundMap/pushka/066.wav', '/content/drive/MyDrive/soundMap/pushka/065.wav', '/content/drive/MyDrive/soundMap/pushka/067.wav', '/content/drive/MyDrive/soundMap/pushka/068.wav', '/content/drive/MyDrive/soundMap/pushka/071.wav', '/content/drive/MyDrive/soundMap/pushka/070.wav', '/content/drive/MyDrive/soundMap/pushka/064.wav', '/content/drive/MyDrive/soundMap/pushka/063.wav', '/content/drive/MyDrive/soundMap/pushka/069.wav', '/content/drive/MyDrive/soundMap/pushka/062.wav', '/content/drive/MyDrive/soundMap/pushka/061.wav', '/content/drive/MyDrive/soundMap/pushka/060.wav', '/content/drive/MyDrive/soundMap/pushka/058.wav', '/content/drive/MyDrive/soundMap/pushka/057.wav', '/content/drive/MyDrive/soundMap/pushka/056.wav', '/content/drive/MyDrive/soundMap/pushka/055.wav', '/content/drive/MyDrive/soundMap/pushka/059.wav', '/content/drive/MyDrive/soundMap/pushka/054.wav', '/content/drive/MyDrive/soundMap/pushka/053.wav', '/content/drive/MyDrive/soundMap/pushka/051.wav', '/content/drive/MyDrive/soundMap/pushka/050.wav', '/content/drive/MyDrive/soundMap/pushka/052.wav', '/content/drive/MyDrive/soundMap/pushka/049.wav', '/content/drive/MyDrive/soundMap/pushka/041.wav', '/content/drive/MyDrive/soundMap/pushka/039.wav', '/content/drive/MyDrive/soundMap/pushka/042.wav', '/content/drive/MyDrive/soundMap/pushka/040.wav', '/content/drive/MyDrive/soundMap/pushka/038.wav', '/content/drive/MyDrive/soundMap/pushka/037.wav', '/content/drive/MyDrive/soundMap/pushka/048.wav', '/content/drive/MyDrive/soundMap/pushka/047.wav', '/content/drive/MyDrive/soundMap/pushka/046.wav', '/content/drive/MyDrive/soundMap/pushka/036.wav', '/content/drive/MyDrive/soundMap/pushka/045.wav', '/content/drive/MyDrive/soundMap/pushka/044.wav', '/content/drive/MyDrive/soundMap/pushka/043.wav', '/content/drive/MyDrive/soundMap/pushka/035.wav', '/content/drive/MyDrive/soundMap/pushka/034.wav', '/content/drive/MyDrive/soundMap/pushka/033.wav', '/content/drive/MyDrive/soundMap/pushka/026.wav', '/content/drive/MyDrive/soundMap/pushka/029.wav', '/content/drive/MyDrive/soundMap/pushka/028.wav', '/content/drive/MyDrive/soundMap/pushka/027.wav', '/content/drive/MyDrive/soundMap/pushka/032.wav', '/content/drive/MyDrive/soundMap/pushka/031.wav', '/content/drive/MyDrive/soundMap/pushka/025.wav', '/content/drive/MyDrive/soundMap/pushka/024.wav', '/content/drive/MyDrive/soundMap/pushka/030.wav', '/content/drive/MyDrive/soundMap/pushka/023.wav', '/content/drive/MyDrive/soundMap/pushka/022.wav', '/content/drive/MyDrive/soundMap/pushka/021.wav', '/content/drive/MyDrive/soundMap/pushka/162.wav', '/content/drive/MyDrive/soundMap/pushka/161.wav', '/content/drive/MyDrive/soundMap/pushka/160.wav', '/content/drive/MyDrive/soundMap/pushka/159.wav', '/content/drive/MyDrive/soundMap/pushka/163.wav', '/content/drive/MyDrive/soundMap/pushka/158.wav', '/content/drive/MyDrive/soundMap/pushka/164.wav', '/content/drive/MyDrive/soundMap/pushka/156.wav', '/content/drive/MyDrive/soundMap/pushka/155.wav', '/content/drive/MyDrive/soundMap/pushka/157.wav', '/content/drive/MyDrive/soundMap/pushka/154.wav', '/content/drive/MyDrive/soundMap/pushka/150.wav', '/content/drive/MyDrive/soundMap/pushka/149.wav', '/content/drive/MyDrive/soundMap/pushka/148.wav', '/content/drive/MyDrive/soundMap/pushka/147.wav', '/content/drive/MyDrive/soundMap/pushka/152.wav', '/content/drive/MyDrive/soundMap/pushka/153.wav', '/content/drive/MyDrive/soundMap/pushka/146.wav', '/content/drive/MyDrive/soundMap/pushka/145.wav', '/content/drive/MyDrive/soundMap/pushka/151.wav', '/content/drive/MyDrive/soundMap/pushka/144.wav', '/content/drive/MyDrive/soundMap/pushka/143.wav', '/content/drive/MyDrive/soundMap/pushka/142.wav', '/content/drive/MyDrive/soundMap/pushka/139.wav', '/content/drive/MyDrive/soundMap/pushka/140.wav', '/content/drive/MyDrive/soundMap/pushka/137.wav', '/content/drive/MyDrive/soundMap/pushka/138.wav', '/content/drive/MyDrive/soundMap/pushka/141.wav', '/content/drive/MyDrive/soundMap/pushka/136.wav', '/content/drive/MyDrive/soundMap/pushka/135.wav', '/content/drive/MyDrive/soundMap/pushka/133.wav', '/content/drive/MyDrive/soundMap/pushka/132.wav', '/content/drive/MyDrive/soundMap/pushka/134.wav', '/content/drive/MyDrive/soundMap/pushka/131.wav', '/content/drive/MyDrive/soundMap/pushka/127.wav', '/content/drive/MyDrive/soundMap/pushka/124.wav', '/content/drive/MyDrive/soundMap/pushka/125.wav', '/content/drive/MyDrive/soundMap/pushka/126.wav', '/content/drive/MyDrive/soundMap/pushka/123.wav', '/content/drive/MyDrive/soundMap/pushka/122.wav', '/content/drive/MyDrive/soundMap/pushka/130.wav', '/content/drive/MyDrive/soundMap/pushka/129.wav', '/content/drive/MyDrive/soundMap/pushka/128.wav', '/content/drive/MyDrive/soundMap/pushka/121.wav', '/content/drive/MyDrive/soundMap/pushka/120.wav', '/content/drive/MyDrive/soundMap/pushka/119.wav', '/content/drive/MyDrive/soundMap/pushka/118.wav', '/content/drive/MyDrive/soundMap/pushka/112.wav', '/content/drive/MyDrive/soundMap/pushka/111.wav', '/content/drive/MyDrive/soundMap/pushka/113.wav', '/content/drive/MyDrive/soundMap/pushka/114.wav', '/content/drive/MyDrive/soundMap/pushka/117.wav', '/content/drive/MyDrive/soundMap/pushka/116.wav', '/content/drive/MyDrive/soundMap/pushka/110.wav', '/content/drive/MyDrive/soundMap/pushka/109.wav', '/content/drive/MyDrive/soundMap/pushka/115.wav', '/content/drive/MyDrive/soundMap/pushka/108.wav', '/content/drive/MyDrive/soundMap/pushka/107.wav', '/content/drive/MyDrive/soundMap/pushka/106.wav', '/content/drive/MyDrive/soundMap/pushka/102.wav', '/content/drive/MyDrive/soundMap/pushka/101.wav', '/content/drive/MyDrive/soundMap/pushka/103.wav', '/content/drive/MyDrive/soundMap/pushka/104.wav', '/content/drive/MyDrive/soundMap/pushka/105.wav', '/content/drive/MyDrive/soundMap/pushka/100.wav', '/content/drive/MyDrive/soundMap/pushka/099.wav', '/content/drive/MyDrive/soundMap/pushka/097.wav', '/content/drive/MyDrive/soundMap/pushka/096.wav', '/content/drive/MyDrive/soundMap/pushka/098.wav', '/content/drive/MyDrive/soundMap/pushka/095.wav', '/content/drive/MyDrive/soundMap/pushka/091.wav', '/content/drive/MyDrive/soundMap/pushka/089.wav', '/content/drive/MyDrive/soundMap/pushka/090.wav', '/content/drive/MyDrive/soundMap/pushka/088.wav', '/content/drive/MyDrive/soundMap/pushka/087.wav', '/content/drive/MyDrive/soundMap/pushka/086.wav', '/content/drive/MyDrive/soundMap/pushka/172.wav', '/content/drive/MyDrive/soundMap/pushka/171.wav', '/content/drive/MyDrive/soundMap/pushka/170.wav', '/content/drive/MyDrive/soundMap/pushka/168.wav', '/content/drive/MyDrive/soundMap/pushka/169.wav', '/content/drive/MyDrive/soundMap/pushka/167.wav', '/content/drive/MyDrive/soundMap/pushka/166.wav', '/content/drive/MyDrive/soundMap/pushka/165.wav']\n",
            "/content/drive/MyDrive/soundMap/pushka/149.wav\n",
            "code: pushka\n"
          ]
        },
        {
          "output_type": "display_data",
          "data": {
            "text/plain": [
              "<IPython.lib.display.Audio object>"
            ],
            "text/html": [
              "\n",
              "                <audio controls=\"controls\" >\n",
              "                    <source src=\"data:audio/wav;base64,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\" type=\"audio/wav\" />\n",
              "                    Your browser does not support the audio element.\n",
              "                </audio>\n",
              "              "
            ]
          },
          "metadata": {}
        },
        {
          "output_type": "display_data",
          "data": {
            "text/plain": [
              "<Figure size 432x288 with 1 Axes>"
            ],
            "image/png": "[encoded data removed]"
          },
          "metadata": {
            "needs_background": "light"
          }
        }
      ]
    },
    {
      "cell_type": "code",
      "source": [
        "sample_rate, audio_data = wavfile.read(random_audio, 'rb')\n",
        "\n",
        "audio_data = np.array(audio_data) / tf.int16.max\n",
        "input_size = serving_model.input_shape[1]\n",
        "\n",
        "splitted_audio_data = tf.signal.frame(audio_data, input_size, input_size, pad_end=True, pad_value=0)\n",
        "\n",
        "print(f'Test audio path: {random_audio}')\n",
        "print(f'Original size of the audio data: {len(audio_data)}')\n",
        "print(f'Number of windows for inference: {len(splitted_audio_data)}')"
      ],
      "metadata": {
        "colab": {
          "base_uri": "https://localhost:8080/"
        },
        "id": "3RnRweKxsmnQ",
        "outputId": "a0dab55a-3522-421c-f7cd-4f3d7d325cdd"
      },
      "execution_count": 28,
      "outputs": [
        {
          "output_type": "stream",
          "name": "stdout",
          "text": [
            "Test audio path: /content/drive/MyDrive/soundMap/pushka/149.wav\n",
            "Original size of the audio data: 32000\n",
            "Number of windows for inference: 3\n"
          ]
        }
      ]
    },
    {
      "cell_type": "code",
      "source": [
        "print(random_audio)\n",
        "\n",
        "results = []\n",
        "print('Result of the window ith:  your model class -> score,  (spec class -> score)')\n",
        "for i, data in enumerate(splitted_audio_data):\n",
        "  yamnet_output, inference = serving_model(data)\n",
        "  results.append(inference[0].numpy())\n",
        "  result_index = tf.argmax(inference[0])\n",
        "  spec_result_index = tf.argmax(yamnet_output[0])\n",
        "  t = spec._yamnet_labels()[spec_result_index]\n",
        "  result_str = f'Result of the window {i} {spec_result_index}: ' \\\n",
        "  f'\\t{test_data.index_to_label[result_index]} -> {inference[0][result_index].numpy():.3f}, ' \\\n",
        "  f'\\t({spec._yamnet_labels()[spec_result_index]} -> {yamnet_output[0][spec_result_index]:.3f})'\n",
        "  print(result_str)\n",
        "\n",
        "\n",
        "results_np = np.array(results)\n",
        "mean_results = results_np.mean(axis=0)\n",
        "result_index = mean_results.argmax()\n",
        "print(f'Mean result: {test_data.index_to_label[result_index]} -> {mean_results[result_index]}')"
      ],
      "metadata": {
        "colab": {
          "base_uri": "https://localhost:8080/"
        },
        "id": "Nmce1rHkwGxl",
        "outputId": "cef7e093-17ee-4295-84f3-e0afe1ee3063"
      },
      "execution_count": 29,
      "outputs": [
        {
          "output_type": "stream",
          "name": "stdout",
          "text": [
            "/content/drive/MyDrive/soundMap/pushka/149.wav\n",
            "Result of the window ith:  your model class -> score,  (spec class -> score)\n",
            "Result of the window 0 494: \tpushka -> 0.870, \t(Silence -> 0.182)\n",
            "Result of the window 1 494: \tunknow -> 1.000, \t(Silence -> 1.000)\n",
            "Result of the window 2 494: \tunknow -> 1.000, \t(Silence -> 1.000)\n",
            "Mean result: unknow -> 0.7032931447029114\n"
          ]
        }
      ]
    },
    {
      "cell_type": "code",
      "source": [
        "models_path = './pushki_models'\n",
        "print(f'Exporing the TFLite model to {models_path}')\n",
        "\n",
        "model.export(models_path, tflite_filename='pushki_model.tflite')"
      ],
      "metadata": {
        "colab": {
          "base_uri": "https://localhost:8080/"
        },
        "id": "-QTanHTItZrQ",
        "outputId": "fedc9073-d4eb-4331-ce60-ec7df9c9365c"
      },
      "execution_count": 30,
      "outputs": [
        {
          "output_type": "stream",
          "name": "stdout",
          "text": [
            "Exporing the TFLite model to ./pushki_models\n",
            "INFO:tensorflow:Assets written to: /tmp/tmpk7_kuuvh/assets\n"
          ]
        },
        {
          "output_type": "stream",
          "name": "stderr",
          "text": [
            "INFO:tensorflow:Assets written to: /tmp/tmpk7_kuuvh/assets\n"
          ]
        },
        {
          "output_type": "stream",
          "name": "stdout",
          "text": [
            "INFO:tensorflow:TensorFlow Lite model exported successfully: ./pushki_models/pushki_model.tflite\n"
          ]
        },
        {
          "output_type": "stream",
          "name": "stderr",
          "text": [
            "INFO:tensorflow:TensorFlow Lite model exported successfully: ./pushki_models/pushki_model.tflite\n"
          ]
        }
      ]
    }
  ]
}